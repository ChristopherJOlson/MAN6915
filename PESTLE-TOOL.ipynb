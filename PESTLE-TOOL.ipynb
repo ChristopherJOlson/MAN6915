{
 "cells": [
  {
   "cell_type": "code",
   "execution_count": 3,
   "metadata": {
    "collapsed": false
   },
   "outputs": [
    {
     "name": "stdout",
     "output_type": "stream",
     "text": [
      "Collecting PySide\n",
      "  Downloading PySide-1.2.4.tar.gz (9.3MB)\n",
      "    Complete output from command python setup.py egg_info:\n",
      "    only these python versions are supported: [(2, 6), (2, 7), (3, 2), (3, 3), (3, 4)]\n",
      "    \n",
      "    ----------------------------------------\n"
     ]
    },
    {
     "name": "stderr",
     "output_type": "stream",
     "text": [
      "Command \"python setup.py egg_info\" failed with error code 1 in C:\\Users\\CHRIST~1\\AppData\\Local\\Temp\\pip-build-q9psopxr\\PySide\\\n"
     ]
    }
   ],
   "source": [
    "!pip install PySide"
   ]
  },
  {
   "cell_type": "code",
   "execution_count": 1,
   "metadata": {
    "collapsed": false
   },
   "outputs": [],
   "source": [
    "from cairosvg import svg2png\n",
    "\n",
    "svg2png(bytestring=svg_code,write_to='output.png')"
   ]
  },
  {
   "cell_type": "code",
   "execution_count": 75,
   "metadata": {
    "collapsed": false,
    "scrolled": false
   },
   "outputs": [],
   "source": [
    "def GetScore(title, filename):\n",
    "    import statistics as st\n",
    "    import numpy as np\n",
    "    import pygal as pg\n",
    "    import pptx\n",
    "\n",
    "    import openpyxl as op\n",
    "    columns = ['A','B','C','D','E','F']\n",
    "    pestle = {}\n",
    "\n",
    "    wb2 = op.load_workbook(r'C:\\Users\\Christopher\\Documents\\MAN6721\\PESTLE-S.xlsx')\n",
    "    #print(wb2.get_sheet_names())\n",
    "    sheet_ranges = wb2['Sheet1']\n",
    "\n",
    "    for i in columns:\n",
    "        temp = {}\n",
    "        for x in range(2,100):\n",
    "            cell = i+str(x)\n",
    "            try:\n",
    "                #print(sheet_ranges[i+'1'].value.lower(),sheet_ranges[cell].value.lower())\n",
    "                temp[sheet_ranges[cell].value.lower()]=0\n",
    "            except:\n",
    "                x=100\n",
    "\n",
    "        pestle[sheet_ranges[i+'1'].value.lower()]=temp\n",
    "    #print(pestle)\n",
    "\n",
    "\n",
    "\n",
    "    totalkeywords=0\n",
    "    \n",
    "    wordcounts={}\n",
    "    wordlengths={}\n",
    "    ls = []\n",
    "    fin=open(filename,'r')\n",
    "    for f in fin.readlines():\n",
    "        ls.append(f.split())\n",
    "    for x in ls:\n",
    "        for i in x:\n",
    "            tempi=\"\"\n",
    "            i=i.lower().strip()\n",
    "            for j in i:\n",
    "                if j.isalpha():\n",
    "                    tempi += j\n",
    "            i=tempi\n",
    "            for x in pestle:\n",
    "                for y in pestle[x]:\n",
    "                    if i == y or i == y+'s' or i == y+'es' or i==y[:-1]+'ies':\n",
    "                        pestle[x][y] += 1\n",
    "                        totalkeywords+=1\n",
    "                        #print(pestle[x])\n",
    "            try:\n",
    "                wordcounts[i] += 1\n",
    "                wordlengths[i] = len(i)\n",
    "            except:\n",
    "                wordcounts[i] = 1\n",
    "    loop = 0\n",
    "    Score={}\n",
    "\n",
    "\n",
    "    for x in pestle:\n",
    "        #print('---------------------'+x+'-----------------------')\n",
    "        tempwords=[]\n",
    "        tempscore = 0\n",
    "        Score[x]={'Words':[],'Score':0}\n",
    "        total = 0\n",
    "        for z in reversed(sorted(pestle[x], key=pestle[x].get)):\n",
    "            try:\n",
    "                total += pestle[x][z]\n",
    "            except:\n",
    "                total+=0\n",
    "        for y in reversed(sorted(pestle[x], key=pestle[x].get)):\n",
    "            try:\n",
    "                if loop>=5:\n",
    "                    raise\n",
    "            except:\n",
    "                break\n",
    "            else:\n",
    "                word = y+\":\"\n",
    "                tempscore += pestle[x][y]\n",
    "                tempwords.append(y)\n",
    "                #print(word.ljust(20),pestle[x][y])\n",
    "                loop+=1\n",
    "        Score[x]['Words']=tempwords\n",
    "        Score[x]['Score']=tempscore/totalkeywords\n",
    "        loop = 0\n",
    "    scorelabels = []\n",
    "    scorenumbers = []\n",
    "    for x in pestle:\n",
    "        scorelabels.append(x)\n",
    "        scorenumbers.append(Score[x]['Score'])\n",
    "\n",
    "\n",
    "    radar_chart = pg.Radar(range=(.01, max(scorenumbers)+.1))\n",
    "    radar_chart.title = title+' - PESTLE Score'\n",
    "    radar_chart.x_labels = scorelabels\n",
    "    radar_chart.add('Score', scorenumbers)\n",
    "    #radar_chart.add('Actual Spending', [70, 50, 40, 10, 17, 8, 10])\n",
    "    #radar_chart.render_to_file('radar_chart.svg')\n",
    "    radar_chart.render_to_png(title+'-radar_chart.png')\n",
    "    #print(title)\n",
    "    return Score\n",
    "\n",
    "\n",
    "\n"
   ]
  },
  {
   "cell_type": "code",
   "execution_count": 85,
   "metadata": {
    "collapsed": false
   },
   "outputs": [
    {
     "name": "stderr",
     "output_type": "stream",
     "text": [
      "C:\\Program Files\\Anaconda3\\lib\\site-packages\\openpyxl\\workbook\\names\\named_range.py:124: UserWarning: Discarded range with reserved name\n",
      "  warnings.warn(\"Discarded range with reserved name\")\n"
     ]
    }
   ],
   "source": [
    "def createppt(title, filename):\n",
    "    ScoreDiff=0\n",
    "    IndustryScore = GetScore('Industry', r\"C:\\Users\\Christopher\\Documents\\MAN6721\\All.txt\")\n",
    "    CompanyScore = GetScore(title, filename)\n",
    "    #SLD_LAYOUT_TITLE_AND_CONTENT = 1\n",
    "    prs = pptx.Presentation('Template.pptx')\n",
    "    prs.slides[0].shapes.title.text='PESTLE Company Analysis against Industry'\n",
    "    prs.slides[0].shapes[1].text_frame.text=title\n",
    "\n",
    "    #for shape in slide1.shapes:\n",
    "    #    if shape.is_placeholder:\n",
    "    #        phf = shape.placeholder_format\n",
    "    #        print('%d, %s' % (phf.idx, phf.type))\n",
    "    #placeholder = slide1.placeholders[10]  # idx key, not position\n",
    "    #graphic_frame = placeholder.insert_table(rows=2, cols=2)\n",
    "\n",
    "\n",
    "    for x in IndustryScore:\n",
    "        slide1 = prs.slides.add_slide(prs.slide_layouts[4])\n",
    "        for shape in slide1.shapes:\n",
    "            #print(shape)\n",
    "            shape.text = 'foobar'\n",
    "\n",
    "        p1 = IndustryScore[x]['Words']\n",
    "        p2 = CompanyScore[x]['Words']\n",
    "        slide1.shapes[1].text='Industry - ' + str(IndustryScore[x]['Score'])\n",
    "        slide1.shapes[3].text='Company - '+ str(CompanyScore[x]['Score'])\n",
    "        ScoreDiff += abs(IndustryScore[x]['Score']-CompanyScore[x]['Score'])\n",
    "\n",
    "        text_frame = slide1.shapes[2].text_frame\n",
    "        text_frame.clear()  # remove any existing paragraphs, leaving one empty one\n",
    "\n",
    "        p = text_frame.paragraphs[0]\n",
    "        p.text = p1[0]\n",
    "\n",
    "        text_frame2 = slide1.shapes[4].text_frame\n",
    "        text_frame2.clear()  # remove any existing paragraphs, leaving one empty one\n",
    "\n",
    "        pp = text_frame2.paragraphs[0]\n",
    "        pp.text = p2[0]\n",
    "\n",
    "        for para_str in p1[1:]:\n",
    "            p = text_frame.add_paragraph()        \n",
    "            p.text = para_str\n",
    "\n",
    "        for para_str in p2[1:]:\n",
    "            pp = text_frame2.add_paragraph()        \n",
    "            pp.text = para_str\n",
    "\n",
    "        title_placeholder = slide1.shapes.title\n",
    "        title_placeholder.text = x.title()\n",
    "\n",
    "\n",
    "    slide7 = prs.slides.add_slide(prs.slide_layouts[8])\n",
    "    placeholder = slide7.placeholders[1]  # idx key, not position\n",
    "    title_placeholder = slide7.shapes.title\n",
    "    title_placeholder.text = title.title()+' - Radar Chart'\n",
    "    text_frame3 = slide7.shapes[2].text_frame\n",
    "    text_frame3.clear()\n",
    "    p = text_frame3.paragraphs[0]\n",
    "    p.text = 'Difference in Scores - '+str(ScoreDiff)\n",
    "    picture = placeholder.insert_picture(title+'-radar_chart.png')\n",
    "    prs.save(title+'-Analysis.pptx')\n",
    "\n",
    "createppt('AmGen', r\"C:\\Users\\Christopher\\Documents\\MAN6721\\AmGen.txt\")"
   ]
  },
  {
   "cell_type": "code",
   "execution_count": 84,
   "metadata": {
    "collapsed": false
   },
   "outputs": [
    {
     "name": "stdout",
     "output_type": "stream",
     "text": [
      "<pptx.slide.Slide object at 0x000000000AABF900>\n"
     ]
    }
   ],
   "source": []
  },
  {
   "cell_type": "code",
   "execution_count": 12,
   "metadata": {
    "collapsed": false
   },
   "outputs": [],
   "source": [
    "#import cairosvg\n",
    "#cairosvg.svg2png(file_obj=open(r\"C:\\Users\\Christopher\\Documents\\MAN6915\\MAN6915\\radar_chart.svg\", \"rb\"), write_to=\"radar.png\")"
   ]
  }
 ],
 "metadata": {
  "anaconda-cloud": {},
  "kernelspec": {
   "display_name": "Python [conda root]",
   "language": "python",
   "name": "conda-root-py"
  },
  "language_info": {
   "codemirror_mode": {
    "name": "ipython",
    "version": 3
   },
   "file_extension": ".py",
   "mimetype": "text/x-python",
   "name": "python",
   "nbconvert_exporter": "python",
   "pygments_lexer": "ipython3",
   "version": "3.5.2"
  }
 },
 "nbformat": 4,
 "nbformat_minor": 1
}
