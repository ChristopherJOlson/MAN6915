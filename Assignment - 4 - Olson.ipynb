{
 "cells": [
  {
   "cell_type": "markdown",
   "metadata": {},
   "source": [
    "# Olson - Assignment 4\n",
    "## Part 1 - Read in the Data Set\n",
    "- Using the Pandas native csv reading I read the iris.txt into a DataFrame df\n",
    "- By setting matplotlib inline it forces matplot to plot in line."
   ]
  },
  {
   "cell_type": "code",
   "execution_count": 83,
   "metadata": {
    "collapsed": false
   },
   "outputs": [],
   "source": [
    "%matplotlib inline\n",
    "\n",
    "import pandas as pd\n",
    "import numpy as np\n",
    "from pandas.tools.plotting import scatter_matrix\n",
    "import matplotlib.pyplot as plt\n",
    "\n",
    "df = pd.read_csv(\"iris.txt\")"
   ]
  },
  {
   "cell_type": "markdown",
   "metadata": {},
   "source": [
    "## Part 2 - Explore the Data\n",
    "- Using the native dataframe head command I am able to confirm the state of the data\n",
    "- The data is in a usable format"
   ]
  },
  {
   "cell_type": "code",
   "execution_count": 73,
   "metadata": {
    "collapsed": false
   },
   "outputs": [
    {
     "name": "stdout",
     "output_type": "stream",
     "text": [
      "   SepalLength  SepalWidth  PetalLength  PetalWidth      Species\n",
      "0          5.1         3.5          1.4         0.2  Iris-setosa\n",
      "1          4.9         3.0          1.4         0.2  Iris-setosa\n",
      "2          4.7         3.2          1.3         0.2  Iris-setosa\n",
      "3          4.6         3.1          1.5         0.2  Iris-setosa\n",
      "4          5.0         3.6          1.4         0.2  Iris-setosa\n"
     ]
    }
   ],
   "source": [
    "print(df.head())"
   ]
  },
  {
   "cell_type": "markdown",
   "metadata": {},
   "source": [
    "## Part 3 - Create Reduced Dataset\n",
    "- I used the DataFrame command to select specific columns for my new dataframe"
   ]
  },
  {
   "cell_type": "code",
   "execution_count": 74,
   "metadata": {
    "collapsed": false
   },
   "outputs": [],
   "source": [
    "pdf = pd.DataFrame(df,columns=['PetalLength','PetalWidth'])"
   ]
  },
  {
   "cell_type": "markdown",
   "metadata": {},
   "source": [
    "## Part 4 - Create a Scatter Plot\n",
    "- I used the matplat commands to create a scatter plot using PetalLength as x and PetalWidth as y"
   ]
  },
  {
   "cell_type": "code",
   "execution_count": 75,
   "metadata": {
    "collapsed": false
   },
   "outputs": [
    {
     "data": {
      "text/plain": [
       "<matplotlib.axes._subplots.AxesSubplot at 0xaeadef0>"
      ]
     },
     "execution_count": 75,
     "metadata": {},
     "output_type": "execute_result"
    },
    {
     "data": {
      "image/png": "[encoded data removed]",
      "text/plain": [
       "<matplotlib.figure.Figure at 0xaeaddd8>"
      ]
     },
     "metadata": {},
     "output_type": "display_data"
    }
   ],
   "source": [
    "pdf.plot.scatter(x='PetalLength',y='PetalWidth')"
   ]
  },
  {
   "cell_type": "markdown",
   "metadata": {},
   "source": [
    "## Part 5 - Implement Basic Functions to create regression Model\n",
    "- I first created 2 arrays using the dataframe.values for each individual X and Y\n",
    "- I then stacked a column of 1's to the X Matrix\n",
    "- I then transposed the X matrix\n",
    "- Then I multiplied the X and its transpose\n",
    "- I then inverted the answer\n",
    "- I then multiplied the Y matrix by the transposed X matrix\n",
    "- I then Multiplied the inverted original by the answer to the Ydot multiplication\n",
    "- This produced Beta or a 1x2 matrix for our values\n",
    "\n",
    "- I then created a function to bring in an x value and the Beta and return the predicted Y value"
   ]
  },
  {
   "cell_type": "code",
   "execution_count": 76,
   "metadata": {
    "collapsed": false
   },
   "outputs": [],
   "source": [
    "def coef(pdf):\n",
    "    X = pdf['PetalLength'].values\n",
    "    Y = pdf['PetalWidth'].values\n",
    "    O = np.ones(len(pdf))\n",
    "    X1 = np.stack((O,X), axis=-1)\n",
    "    XX = np.transpose(X1)\n",
    "    Xdot = np.dot(XX,X1)\n",
    "    Xinv = np.linalg.inv(Xdot)\n",
    "    Xident = np.dot(Xdot,Xinv)\n",
    "    Ydot = np.dot(XX,Y)\n",
    "    Beta = np.dot(Xinv,Ydot)\n",
    "    print(Beta)\n",
    "    return Beta\n",
    "\n",
    "\n",
    "def pred(x,Beta):\n",
    "    y = Beta[0]+(x*Beta[1])\n",
    "    return y\n",
    "\n"
   ]
  },
  {
   "cell_type": "markdown",
   "metadata": {},
   "source": [
    "## Part 6 - Calculate predicted values\n",
    "- Using my functions above I calculate Beta\n",
    "- Once I have Beta I run the prediction function to create a 3rd column in the datafram called predicted value"
   ]
  },
  {
   "cell_type": "code",
   "execution_count": 90,
   "metadata": {
    "collapsed": false
   },
   "outputs": [
    {
     "name": "stdout",
     "output_type": "stream",
     "text": [
      "[-0.36651405  0.41641913]\n"
     ]
    }
   ],
   "source": [
    "Beta = coef(pdf)\n",
    "pdf['PredictedValue'] = pred(pdf['PetalLength'],Beta)"
   ]
  },
  {
   "cell_type": "markdown",
   "metadata": {},
   "source": [
    "## Part 7 - Plot the Regression Line n top of the Scatter Plot\n",
    "- I created 3 arrays for the PetalLength, PetalWidth, and Predicted Values\n",
    "- I then created the scatter plot of the actual values\n",
    "- I plotted the line of the X Values against the predicted values"
   ]
  },
  {
   "cell_type": "code",
   "execution_count": 89,
   "metadata": {
    "collapsed": false
   },
   "outputs": [
    {
     "data": {
      "text/plain": [
       "[<matplotlib.lines.Line2D at 0xe2212b0>]"
      ]
     },
     "execution_count": 89,
     "metadata": {},
     "output_type": "execute_result"
    },
    {
     "data": {
      "image/png": "[encoded data removed]",
      "text/plain": [
       "<matplotlib.figure.Figure at 0xe221390>"
      ]
     },
     "metadata": {},
     "output_type": "display_data"
    }
   ],
   "source": [
    "X = pdf['PetalLength'].values\n",
    "Y = pdf['PetalWidth'].values\n",
    "Z = pdf['PredictedValue'].values\n",
    "\n",
    "plt.scatter(X,Y)\n",
    "plt.plot(X,Z, color = \"red\")"
   ]
  }
 ],
 "metadata": {
  "anaconda-cloud": {},
  "kernelspec": {
   "display_name": "Python [conda root]",
   "language": "python",
   "name": "conda-root-py"
  },
  "language_info": {
   "codemirror_mode": {
    "name": "ipython",
    "version": 3
   },
   "file_extension": ".py",
   "mimetype": "text/x-python",
   "name": "python",
   "nbconvert_exporter": "python",
   "pygments_lexer": "ipython3",
   "version": "3.5.2"
  }
 },
 "nbformat": 4,
 "nbformat_minor": 1
}
