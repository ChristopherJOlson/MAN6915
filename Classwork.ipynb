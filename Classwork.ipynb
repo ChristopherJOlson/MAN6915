{
 "cells": [
  {
   "cell_type": "code",
   "execution_count": 4,
   "metadata": {
    "collapsed": false
   },
   "outputs": [
    {
     "name": "stdout",
     "output_type": "stream",
     "text": [
      "Please enter your age:2\n",
      "You are 63,120,000 Seconds old.\n"
     ]
    }
   ],
   "source": [
    "x=input(\"Please enter your age:\")\n",
    "xx=int(x)*3.156*10**7\n",
    "print(\"You are\",\"{:,}\".format(int(xx)),\"Seconds old.\")"
   ]
  },
  {
   "cell_type": "code",
   "execution_count": 5,
   "metadata": {
    "collapsed": false
   },
   "outputs": [
    {
     "name": "stdout",
     "output_type": "stream",
     "text": [
      "Please enter your quarts of water:6\n",
      "You have 1.9e+26 Water Molecules\n"
     ]
    }
   ],
   "source": [
    "x=input(\"Please enter your quarts of water:\")\n",
    "xx=int(x)*(950/(3*10**-23))\n",
    "print(\"You have\",\"{:,}\".format(xx),\"Water Molecules\")"
   ]
  },
  {
   "cell_type": "code",
   "execution_count": 2,
   "metadata": {
    "collapsed": false
   },
   "outputs": [
    {
     "name": "stdout",
     "output_type": "stream",
     "text": [
      "Please enter your height in inches:64\n",
      "You are 162.56 Centimeters Tall\n"
     ]
    }
   ],
   "source": [
    "x=input(\"Please enter your height in inches:\")\n",
    "xx=int(x)*(2.54)\n",
    "print(\"You are\",xx,\"Centimeters Tall\")"
   ]
  },
  {
   "cell_type": "code",
   "execution_count": 6,
   "metadata": {
    "collapsed": false
   },
   "outputs": [
    {
     "name": "stdout",
     "output_type": "stream",
     "text": [
      "Please enter amount of Cups:20\n",
      "10.0  - Pints\n",
      "160.0  - Ounces\n",
      "320.0  - Tablespoons\n",
      "960.0  - Teaspoons\n"
     ]
    }
   ],
   "source": [
    "x=float(input(\"Please enter amount of Cups:\"))\n",
    "x_p=x/2\n",
    "x_o=x*8\n",
    "x_tbsp=x_o*2\n",
    "x_tsp=x_tbsp*3\n",
    "\n",
    "print(x_p, \" - Pints\")\n",
    "print(x_o, \" - Ounces\")\n",
    "print(x_tbsp, \" - Tablespoons\")\n",
    "print(x_tsp, \" - Teaspoons\")"
   ]
  },
  {
   "cell_type": "code",
   "execution_count": null,
   "metadata": {
    "collapsed": false
   },
   "outputs": [],
   "source": [
    "import tkinter\n",
    "x=input(\"Please enter your height in inches:\")\n",
    "xx=int(x)*(2.54)\n",
    "print(\"You are\",xx,\"Centimeters Tall\")"
   ]
  },
  {
   "cell_type": "code",
   "execution_count": 1,
   "metadata": {
    "collapsed": false
   },
   "outputs": [
    {
     "name": "stdout",
     "output_type": "stream",
     "text": [
      "Not a number\n",
      "5.08\n",
      "58.42\n",
      "9.05511811023622\n",
      "58.42\n",
      "Not a number\n",
      "2.54\n",
      "38.1\n",
      "2.54\n",
      "Not a number\n",
      "5.08\n",
      "50.8\n",
      "7.874015748031495\n",
      "0.7874015748031495\n",
      "Not a number\n",
      "0.7874015748031495\n",
      "9.05511811023622\n",
      "92.12598425196849\n"
     ]
    }
   ],
   "source": [
    "from tkinter import *\n",
    "import tkinter as ttk\n",
    " \n",
    "root = Tk()\n",
    "root.title(\"Conversion\")\n",
    " \n",
    "# Add a grid\n",
    "mainframe = Frame(root)\n",
    "mainframe.grid(column=0,row=0, sticky=(N,W,E,S) )\n",
    "mainframe.columnconfigure(0, weight = 1)\n",
    "mainframe.rowconfigure(0, weight = 1)\n",
    "mainframe.pack(pady = 100, padx = 100)\n",
    " \n",
    "# Create a Tkinter variable\n",
    "tkvar = StringVar(root)\n",
    " \n",
    "# Dictionary with options\n",
    "choices = { 'Inches','Centimeters'}\n",
    "tkvar.set('Inches') # set the default option\n",
    "\n",
    "v = StringVar(root, value='0')\n",
    "height=StringVar(root,value='0')\n",
    "popupMenu = OptionMenu(mainframe, tkvar, *choices)\n",
    "EntryBox = Entry(mainframe, textvariable=v)\n",
    "Label(mainframe, text=\"Convert your height\").grid(row = 1, column = 1)\n",
    "Label(mainframe, textvariable=height).grid(row = 2, column = 3)\n",
    "popupMenu.grid(row = 2, column =2)\n",
    "EntryBox.grid(row=2, column=1)\n",
    " \n",
    "# on change dropdown value\n",
    "def change_dropdown(*args):\n",
    "    try: \n",
    "        x= int(EntryBox.get())\n",
    "    except ValueError:\n",
    "        print(\"Not a number\")\n",
    "    else:\n",
    "        if (tkvar.get()==\"Inches\"):\n",
    "            convrate = 2.54\n",
    "        else:\n",
    "            convrate = 1/2.54\n",
    "        height.set(x*convrate)\n",
    "        print(x*convrate )\n",
    " \n",
    "# link function to change dropdown\n",
    "tkvar.trace('w', change_dropdown)\n",
    "v.trace('w', change_dropdown)\n",
    " \n",
    "root.mainloop()"
   ]
  }
 ],
 "metadata": {
  "anaconda-cloud": {},
  "kernelspec": {
   "display_name": "Python [conda root]",
   "language": "python",
   "name": "conda-root-py"
  },
  "language_info": {
   "codemirror_mode": {
    "name": "ipython",
    "version": 3
   },
   "file_extension": ".py",
   "mimetype": "text/x-python",
   "name": "python",
   "nbconvert_exporter": "python",
   "pygments_lexer": "ipython3",
   "version": "3.5.2"
  }
 },
 "nbformat": 4,
 "nbformat_minor": 1
}
