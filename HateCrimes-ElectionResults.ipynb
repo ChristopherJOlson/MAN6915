{
 "cells": [
  {
   "cell_type": "code",
   "execution_count": 17,
   "metadata": {
    "collapsed": false
   },
   "outputs": [
    {
     "data": {
      "text/html": [
       "<table class=\"simpletable\">\n",
       "<caption>OLS Regression Results</caption>\n",
       "<tr>\n",
       "  <th>Dep. Variable:</th>         <td>Crimes</td>      <th>  R-squared:         </th> <td>   0.012</td> \n",
       "</tr>\n",
       "<tr>\n",
       "  <th>Model:</th>                   <td>OLS</td>       <th>  Adj. R-squared:    </th> <td>   0.011</td> \n",
       "</tr>\n",
       "<tr>\n",
       "  <th>Method:</th>             <td>Least Squares</td>  <th>  F-statistic:       </th> <td>   16.85</td> \n",
       "</tr>\n",
       "<tr>\n",
       "  <th>Date:</th>             <td>Wed, 29 Mar 2017</td> <th>  Prob (F-statistic):</th> <td>4.29e-05</td> \n",
       "</tr>\n",
       "<tr>\n",
       "  <th>Time:</th>                 <td>18:50:00</td>     <th>  Log-Likelihood:    </th> <td> -12187.</td> \n",
       "</tr>\n",
       "<tr>\n",
       "  <th>No. Observations:</th>      <td>  1394</td>      <th>  AIC:               </th> <td>2.438e+04</td>\n",
       "</tr>\n",
       "<tr>\n",
       "  <th>Df Residuals:</th>          <td>  1392</td>      <th>  BIC:               </th> <td>2.439e+04</td>\n",
       "</tr>\n",
       "<tr>\n",
       "  <th>Df Model:</th>              <td>     1</td>      <th>                     </th>     <td> </td>    \n",
       "</tr>\n",
       "<tr>\n",
       "  <th>Covariance Type:</th>      <td>nonrobust</td>    <th>                     </th>     <td> </td>    \n",
       "</tr>\n",
       "</table>\n",
       "<table class=\"simpletable\">\n",
       "<tr>\n",
       "      <td></td>         <th>coef</th>     <th>std err</th>      <th>t</th>      <th>P>|t|</th> <th>[95.0% Conf. Int.]</th> \n",
       "</tr>\n",
       "<tr>\n",
       "  <th>Intercept</th> <td>  528.3889</td> <td>  107.769</td> <td>    4.903</td> <td> 0.000</td> <td>  316.982   739.795</td>\n",
       "</tr>\n",
       "<tr>\n",
       "  <th>Binary</th>    <td> -477.5603</td> <td>  116.348</td> <td>   -4.105</td> <td> 0.000</td> <td> -705.796  -249.324</td>\n",
       "</tr>\n",
       "</table>\n",
       "<table class=\"simpletable\">\n",
       "<tr>\n",
       "  <th>Omnibus:</th>       <td>3268.122</td> <th>  Durbin-Watson:     </th>   <td>   2.009</td>  \n",
       "</tr>\n",
       "<tr>\n",
       "  <th>Prob(Omnibus):</th>  <td> 0.000</td>  <th>  Jarque-Bera (JB):  </th> <td>19233730.543</td>\n",
       "</tr>\n",
       "<tr>\n",
       "  <th>Skew:</th>           <td>22.177</td>  <th>  Prob(JB):          </th>   <td>    0.00</td>  \n",
       "</tr>\n",
       "<tr>\n",
       "  <th>Kurtosis:</th>       <td>576.736</td> <th>  Cond. No.          </th>   <td>    5.13</td>  \n",
       "</tr>\n",
       "</table>"
      ],
      "text/plain": [
       "<class 'statsmodels.iolib.summary.Summary'>\n",
       "\"\"\"\n",
       "                            OLS Regression Results                            \n",
       "==============================================================================\n",
       "Dep. Variable:                 Crimes   R-squared:                       0.012\n",
       "Model:                            OLS   Adj. R-squared:                  0.011\n",
       "Method:                 Least Squares   F-statistic:                     16.85\n",
       "Date:                Wed, 29 Mar 2017   Prob (F-statistic):           4.29e-05\n",
       "Time:                        18:50:00   Log-Likelihood:                -12187.\n",
       "No. Observations:                1394   AIC:                         2.438e+04\n",
       "Df Residuals:                    1392   BIC:                         2.439e+04\n",
       "Df Model:                           1                                         \n",
       "Covariance Type:            nonrobust                                         \n",
       "==============================================================================\n",
       "                 coef    std err          t      P>|t|      [95.0% Conf. Int.]\n",
       "------------------------------------------------------------------------------\n",
       "Intercept    528.3889    107.769      4.903      0.000       316.982   739.795\n",
       "Binary      -477.5603    116.348     -4.105      0.000      -705.796  -249.324\n",
       "==============================================================================\n",
       "Omnibus:                     3268.122   Durbin-Watson:                   2.009\n",
       "Prob(Omnibus):                  0.000   Jarque-Bera (JB):         19233730.543\n",
       "Skew:                          22.177   Prob(JB):                         0.00\n",
       "Kurtosis:                     576.736   Cond. No.                         5.13\n",
       "==============================================================================\n",
       "\n",
       "Warnings:\n",
       "[1] Standard Errors assume that the covariance matrix of the errors is correctly specified.\n",
       "\"\"\""
      ]
     },
     "execution_count": 17,
     "metadata": {},
     "output_type": "execute_result"
    }
   ],
   "source": [
    "import pandas as pd\n",
    "import statsmodels.formula.api as smf\n",
    "\n",
    "dfcounty = pd.read_csv('US.csv')\n",
    "df = pd.read_csv('HCS.csv')\n",
    "df1 = pd.read_csv('HCS-1.csv')\n",
    "df2 = pd.read_csv('PR.csv')\n",
    "dfall = pd.concat([df,df1])\n",
    "dfnew = pd.merge(dfall,dfcounty,on=['City','State'],how='inner')\n",
    "#print(dfnew)\n",
    "#dfnew2 = dfnew.drop_duplicates()\n",
    "dfnew['Crimes']=dfnew['1st quarter']+dfnew['2nd quarter']+dfnew['3rd quarter']+dfnew['4th quarter']\n",
    "dfcrimes=dfnew[['County','Crimes']]\n",
    "dfcrimes2=dfcrimes.groupby(['County'])[['Crimes']].sum().reset_index()\n",
    "dfpres = df2.groupby('County').sum().reset_index()\n",
    "dfpres2=dfcrimes2.merge(dfpres,on=['County'],how='inner')\n",
    "\n",
    "# create a fitted model in one line\n",
    "lm = smf.ols(formula='Crimes ~ Binary', data=dfpres2).fit()\n",
    "\n",
    "# print the coefficients\n",
    "lm.summary()\n",
    "\n",
    "\n",
    "\n"
   ]
  },
  {
   "cell_type": "code",
   "execution_count": null,
   "metadata": {
    "collapsed": true
   },
   "outputs": [],
   "source": [
    "for index, row in df.iterrows():\n",
    "    print(mydict[str(row['hash'])])"
   ]
  }
 ],
 "metadata": {
  "anaconda-cloud": {},
  "kernelspec": {
   "display_name": "Python [conda root]",
   "language": "python",
   "name": "conda-root-py"
  },
  "language_info": {
   "codemirror_mode": {
    "name": "ipython",
    "version": 3
   },
   "file_extension": ".py",
   "mimetype": "text/x-python",
   "name": "python",
   "nbconvert_exporter": "python",
   "pygments_lexer": "ipython3",
   "version": "3.5.2"
  }
 },
 "nbformat": 4,
 "nbformat_minor": 1
}
