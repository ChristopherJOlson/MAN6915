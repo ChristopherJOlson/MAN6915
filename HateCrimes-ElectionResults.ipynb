{
 "cells": [
  {
   "cell_type": "code",
   "execution_count": 16,
   "metadata": {
    "collapsed": false
   },
   "outputs": [
    {
     "data": {
      "text/html": [
       "<table class=\"simpletable\">\n",
       "<caption>OLS Regression Results</caption>\n",
       "<tr>\n",
       "  <th>Dep. Variable:</th>         <td>Crimes</td>      <th>  R-squared:         </th> <td>   0.012</td> \n",
       "</tr>\n",
       "<tr>\n",
       "  <th>Model:</th>                   <td>OLS</td>       <th>  Adj. R-squared:    </th> <td>   0.011</td> \n",
       "</tr>\n",
       "<tr>\n",
       "  <th>Method:</th>             <td>Least Squares</td>  <th>  F-statistic:       </th> <td>   16.23</td> \n",
       "</tr>\n",
       "<tr>\n",
       "  <th>Date:</th>             <td>Mon, 10 Apr 2017</td> <th>  Prob (F-statistic):</th> <td>5.92e-05</td> \n",
       "</tr>\n",
       "<tr>\n",
       "  <th>Time:</th>                 <td>21:02:33</td>     <th>  Log-Likelihood:    </th> <td> -11814.</td> \n",
       "</tr>\n",
       "<tr>\n",
       "  <th>No. Observations:</th>      <td>  1394</td>      <th>  AIC:               </th> <td>2.363e+04</td>\n",
       "</tr>\n",
       "<tr>\n",
       "  <th>Df Residuals:</th>          <td>  1392</td>      <th>  BIC:               </th> <td>2.364e+04</td>\n",
       "</tr>\n",
       "<tr>\n",
       "  <th>Df Model:</th>              <td>     1</td>      <th>                     </th>     <td> </td>    \n",
       "</tr>\n",
       "<tr>\n",
       "  <th>Covariance Type:</th>      <td>nonrobust</td>    <th>                     </th>     <td> </td>    \n",
       "</tr>\n",
       "</table>\n",
       "<table class=\"simpletable\">\n",
       "<tr>\n",
       "      <td></td>         <th>coef</th>     <th>std err</th>      <th>t</th>      <th>P>|t|</th> <th>[95.0% Conf. Int.]</th> \n",
       "</tr>\n",
       "<tr>\n",
       "  <th>Intercept</th> <td>  408.9367</td> <td>   82.450</td> <td>    4.960</td> <td> 0.000</td> <td>  247.197   570.677</td>\n",
       "</tr>\n",
       "<tr>\n",
       "  <th>Binary</th>    <td> -358.5733</td> <td>   89.014</td> <td>   -4.028</td> <td> 0.000</td> <td> -533.189  -183.958</td>\n",
       "</tr>\n",
       "</table>\n",
       "<table class=\"simpletable\">\n",
       "<tr>\n",
       "  <th>Omnibus:</th>       <td>3153.681</td> <th>  Durbin-Watson:     </th>   <td>   2.012</td>  \n",
       "</tr>\n",
       "<tr>\n",
       "  <th>Prob(Omnibus):</th>  <td> 0.000</td>  <th>  Jarque-Bera (JB):  </th> <td>14106987.247</td>\n",
       "</tr>\n",
       "<tr>\n",
       "  <th>Skew:</th>           <td>20.437</td>  <th>  Prob(JB):          </th>   <td>    0.00</td>  \n",
       "</tr>\n",
       "<tr>\n",
       "  <th>Kurtosis:</th>       <td>494.126</td> <th>  Cond. No.          </th>   <td>    5.13</td>  \n",
       "</tr>\n",
       "</table>"
      ],
      "text/plain": [
       "<class 'statsmodels.iolib.summary.Summary'>\n",
       "\"\"\"\n",
       "                            OLS Regression Results                            \n",
       "==============================================================================\n",
       "Dep. Variable:                 Crimes   R-squared:                       0.012\n",
       "Model:                            OLS   Adj. R-squared:                  0.011\n",
       "Method:                 Least Squares   F-statistic:                     16.23\n",
       "Date:                Mon, 10 Apr 2017   Prob (F-statistic):           5.92e-05\n",
       "Time:                        21:02:33   Log-Likelihood:                -11814.\n",
       "No. Observations:                1394   AIC:                         2.363e+04\n",
       "Df Residuals:                    1392   BIC:                         2.364e+04\n",
       "Df Model:                           1                                         \n",
       "Covariance Type:            nonrobust                                         \n",
       "==============================================================================\n",
       "                 coef    std err          t      P>|t|      [95.0% Conf. Int.]\n",
       "------------------------------------------------------------------------------\n",
       "Intercept    408.9367     82.450      4.960      0.000       247.197   570.677\n",
       "Binary      -358.5733     89.014     -4.028      0.000      -533.189  -183.958\n",
       "==============================================================================\n",
       "Omnibus:                     3153.681   Durbin-Watson:                   2.012\n",
       "Prob(Omnibus):                  0.000   Jarque-Bera (JB):         14106987.247\n",
       "Skew:                          20.437   Prob(JB):                         0.00\n",
       "Kurtosis:                     494.126   Cond. No.                         5.13\n",
       "==============================================================================\n",
       "\n",
       "Warnings:\n",
       "[1] Standard Errors assume that the covariance matrix of the errors is correctly specified.\n",
       "\"\"\""
      ]
     },
     "execution_count": 16,
     "metadata": {},
     "output_type": "execute_result"
    }
   ],
   "source": [
    "import pandas as pd\n",
    "import statsmodels.formula.api as smf\n",
    "import numpy as np\n",
    "import matplotlib.pyplot as plt\n",
    "%matplotlib inline\n",
    "\n",
    "dfcounty = pd.read_csv('US.csv')\n",
    "df = pd.read_csv('HCS.csv')\n",
    "df1 = pd.read_csv('HCS-1.csv')\n",
    "df2 = pd.read_csv('PR.csv')\n",
    "dfall = pd.concat([df,df1])\n",
    "dfnew = pd.merge(dfall,dfcounty,on=['City','State'],how='inner')\n",
    "#print(dfnew)\n",
    "#dfnew2 = dfnew.drop_duplicates()\n",
    "dfnew['Crimes']=dfnew['1st quarter']+dfnew['2nd quarter']+dfnew['3rd quarter']+dfnew['4th quarter']\n",
    "dfcrimes=dfnew[['County','Crimes']]\n",
    "dfcrimes2=dfcrimes.groupby(['County'])[['Crimes']].sum().reset_index()\n",
    "dfpres = df2.groupby('County').sum().reset_index()\n",
    "CrimesTotal=dfcrimes2.merge(dfpres,on=['County'],how='inner')\n",
    "\n",
    "dfcpc = pd.merge(dfall,dfcounty,on=['City','State'],how='inner')\n",
    "dfcpc['Crimes']=dfcpc['1st quarter']+dfcpc['2nd quarter']+dfcpc['3rd quarter']+dfcpc['4th quarter']/(dfcpc['Population']/100000)\n",
    "dfcrimescpc=dfcpc[['County','Crimes']]\n",
    "dfcrimescpc2=dfcrimescpc.groupby(['County'])[['Crimes']].sum().reset_index()\n",
    "dfcpcpres = df2.groupby('County').sum().reset_index()\n",
    "CrimesCPC=dfcrimescpc2.merge(dfcpcpres,on=['County'],how='inner')\n",
    "\n",
    "\n",
    "# create a fitted model in one line\n",
    "#lm = smf.ols(formula='Crimes ~ Binary', data=CrimesTotal).fit()\n",
    "\n",
    "# print the coefficients\n",
    "#lm.summary()\n",
    "\n",
    "\n",
    "# create a fitted model in one line\n",
    "lm2 = smf.ols(formula='Crimes ~ Binary', data=CrimesCPC).fit()\n",
    "\n",
    "# print the coefficients\n",
    "lm2.summary()\n",
    "\n",
    "\n",
    "\n"
   ]
  },
  {
   "cell_type": "code",
   "execution_count": 12,
   "metadata": {
    "collapsed": false
   },
   "outputs": [
    {
     "name": "stdout",
     "output_type": "stream",
     "text": [
      "Optimization terminated successfully.\n",
      "         Current function value: 0.693065\n",
      "         Iterations 3\n",
      "                           Logit Regression Results                           \n",
      "==============================================================================\n",
      "Dep. Variable:                 Binary   No. Observations:                 1394\n",
      "Model:                          Logit   Df Residuals:                     1393\n",
      "Method:                           MLE   Df Model:                            0\n",
      "Date:                Mon, 10 Apr 2017   Pseudo R-squ.:                 -0.6960\n",
      "Time:                        20:57:39   Log-Likelihood:                -966.13\n",
      "converged:                       True   LL-Null:                       -569.65\n",
      "                                        LLR p-value:                       nan\n",
      "==============================================================================\n",
      "                 coef    std err          z      P>|z|      [95.0% Conf. Int.]\n",
      "------------------------------------------------------------------------------\n",
      "Crimes     -2.232e-05   4.77e-05     -0.468      0.640        -0.000  7.12e-05\n",
      "==============================================================================\n"
     ]
    }
   ],
   "source": [
    "logit = smf.Logit(CrimesCPC['Binary'], CrimesCPC['Crimes'])\n",
    "\n",
    "result = logit.fit()\n",
    "print(result.summary())"
   ]
  },
  {
   "cell_type": "code",
   "execution_count": 39,
   "metadata": {
    "collapsed": false
   },
   "outputs": [
    {
     "name": "stdout",
     "output_type": "stream",
     "text": [
      "                    County  Crimes  Binary\n",
      "9                  Alameda     NaN       0\n",
      "20               Allegheny     NaN       0\n",
      "115                  Bexar     NaN       0\n",
      "200                Cambria     NaN       1\n",
      "312                   Cook     NaN       1\n",
      "349                 Dallas     NaN       1\n",
      "374                 Denver     NaN       0\n",
      "386   District of Columbia     NaN       0\n",
      "420                El Paso     NaN       1\n",
      "445                Fayette     NaN       1\n",
      "463               Franklin     NaN       1\n",
      "543               Hamilton     NaN       1\n",
      "562                 Harris     NaN       1\n",
      "575               Hennepin     NaN       0\n",
      "631                Jackson     NaN       1\n",
      "651                Kanawha     NaN       1\n",
      "673                   King     NaN       1\n",
      "749            Los Angeles     NaN       0\n",
      "776               Maricopa     NaN       1\n",
      "780                 Marion     NaN       1\n",
      "892               New York     NaN       0\n",
      "990           Philadelphia     NaN       0\n",
      "1093            Sacramento     NaN       0\n",
      "1105             San Diego     NaN       0\n",
      "1153                Shelby     NaN       1\n",
      "1223               Tarrant     NaN       1\n",
      "1254                Travis     NaN       0\n",
      "1301                  Wake     NaN       0\n"
     ]
    },
    {
     "name": "stderr",
     "output_type": "stream",
     "text": [
      "C:\\Program Files\\Anaconda3\\lib\\site-packages\\pandas\\core\\ops.py:995: VisibleDeprecationWarning: boolean index did not match indexed array along dimension 0; dimension is 1 but corresponding boolean dimension is 1394\n",
      "  yrav = yrav[mask]\n"
     ]
    }
   ],
   "source": [
    "# Remove Outliers outside of 3 std deviations\n",
    "CrimesCPC[np.abs(CrimesCPC - CrimesCPC.mean()) > 3 * CrimesCPC.std()] = np.nan\n",
    "null_data = CrimesCPC[CrimesCPC.isnull().any(axis=1)]\n",
    "print(null_data)"
   ]
  },
  {
   "cell_type": "code",
   "execution_count": 40,
   "metadata": {
    "collapsed": true
   },
   "outputs": [],
   "source": [
    "# Replace null values with group means\n",
    "CrimesCPC['Crimes'].fillna(CrimesCPC.groupby('Binary')['Crimes'].transform(\"mean\"), inplace=True)"
   ]
  },
  {
   "cell_type": "code",
   "execution_count": 44,
   "metadata": {
    "collapsed": false
   },
   "outputs": [
    {
     "data": {
      "text/plain": [
       "(1394,)"
      ]
     },
     "execution_count": 44,
     "metadata": {},
     "output_type": "execute_result"
    }
   ],
   "source": [
    "X = CrimesCPC['Binary']\n",
    "X.shape\n",
    "Y = CrimesCPC['Crimes']\n",
    "Y.shape"
   ]
  },
  {
   "cell_type": "code",
   "execution_count": 45,
   "metadata": {
    "collapsed": false
   },
   "outputs": [
    {
     "data": {
      "image/png": "[encoded data removed]",
      "text/plain": [
       "<matplotlib.figure.Figure at 0xaf2eeb8>"
      ]
     },
     "metadata": {},
     "output_type": "display_data"
    }
   ],
   "source": [
    "from sklearn.linear_model import LinearRegression\n",
    "model = LinearRegression(fit_intercept=True)\n",
    "\n",
    "model.fit(X[:, np.newaxis], Y)\n",
    "\n",
    "xfit = np.linspace(0, 1, 1000)\n",
    "yfit = model.predict(xfit[:, np.newaxis])\n",
    "\n",
    "plt.scatter(X, Y)\n",
    "plt.plot(xfit, yfit);"
   ]
  }
 ],
 "metadata": {
  "anaconda-cloud": {},
  "kernelspec": {
   "display_name": "Python [conda root]",
   "language": "python",
   "name": "conda-root-py"
  },
  "language_info": {
   "codemirror_mode": {
    "name": "ipython",
    "version": 3
   },
   "file_extension": ".py",
   "mimetype": "text/x-python",
   "name": "python",
   "nbconvert_exporter": "python",
   "pygments_lexer": "ipython3",
   "version": "3.5.2"
  }
 },
 "nbformat": 4,
 "nbformat_minor": 1
}
