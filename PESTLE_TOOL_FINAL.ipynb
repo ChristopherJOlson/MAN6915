{
 "cells": [
  {
   "cell_type": "markdown",
   "metadata": {},
   "source": [
    "PESTLE Analysis Tool - Version 1.0"
   ]
  },
  {
   "cell_type": "markdown",
   "metadata": {},
   "source": [
    "Step 0: This tool assumes all of the following packages are correctly installed and you are using Python version 3.4 or higher. Install any Python packages not already installed.\n",
    "\n",
    "Packages needed:\n",
    "\n",
    "python-pptx\n",
    "\n",
    "pygal\n",
    "\n",
    "openpyxl\n",
    "\n",
    "WeasyPrint (including cariosvg)\n",
    "\n",
    "PySide"
   ]
  },
  {
   "cell_type": "code",
   "execution_count": null,
   "metadata": {
    "collapsed": false
   },
   "outputs": [],
   "source": [
    "#!pip install python-pptx\n",
    "#!pip install pygal\n",
    "#!pip install openpyxl\n",
    "#!pip install WeasyPrint\n",
    "#!pip install PySide"
   ]
  },
  {
   "cell_type": "markdown",
   "metadata": {},
   "source": [
    "Step 1a: Gather text files of 10-Ks for at least 5 companies in the industry. Combine into single text file.\n",
    "\n",
    "Step 1b: Locate where this text file exists as well as your excel file with dictionary of words for PESTLE analysis."
   ]
  },
  {
   "cell_type": "markdown",
   "metadata": {},
   "source": [
    "Step 2: Import all Python packages used"
   ]
  },
  {
   "cell_type": "code",
   "execution_count": null,
   "metadata": {
    "collapsed": false
   },
   "outputs": [],
   "source": [
    "import statistics as st\n",
    "import numpy as np\n",
    "import pygal as pg\n",
    "import pptx\n",
    "import openpyxl as op"
   ]
  },
  {
   "cell_type": "markdown",
   "metadata": {},
   "source": [
    "Step 3a: Change out file extension gathered for dictionary in step 1b for the file extensions below. Indicated by comments "
   ]
  },
  {
   "cell_type": "code",
   "execution_count": null,
   "metadata": {
    "collapsed": true
   },
   "outputs": [],
   "source": [
    "def GetScore(title, filename):\n",
    "\n",
    "    columns = ['A','B','C','D','E','F']\n",
    "    pestle = {}\n",
    "\n",
    "    #change file name below\n",
    "    wb2 = op.load_workbook(r'C:\\Users\\Christopher\\Documents\\MAN6721\\PESTLE-S.xlsx')\n",
    "\n",
    "    #change sheet range if needed\n",
    "    sheet_ranges = wb2['Sheet1']\n",
    "\n",
    "    for i in columns:\n",
    "        temp = {}\n",
    "        for x in range(2,100):\n",
    "            cell = i+str(x)\n",
    "            try:\n",
    "                temp[sheet_ranges[cell].value.lower()]=0\n",
    "            except:\n",
    "                x=100\n",
    "\n",
    "        pestle[sheet_ranges[i+'1'].value.lower()]=temp\n",
    "\n",
    "    totalkeywords=0\n",
    "    \n",
    "    wordcounts={}\n",
    "    wordlengths={}\n",
    "    ls = []\n",
    "    fin=open(filename,'r')\n",
    "    for f in fin.readlines():\n",
    "        ls.append(f.split())\n",
    "    for x in ls:\n",
    "        for i in x:\n",
    "            tempi=\"\"\n",
    "            i=i.lower().strip()\n",
    "            for j in i:\n",
    "                if j.isalpha():\n",
    "                    tempi += j\n",
    "            i=tempi\n",
    "            for x in pestle:\n",
    "                for y in pestle[x]:\n",
    "                    if i == y or i == y+'s' or i == y+'es' or i==y[:-1]+'ies':\n",
    "                        pestle[x][y] += 1\n",
    "                        totalkeywords+=1\n",
    "            try:\n",
    "                wordcounts[i] += 1\n",
    "                wordlengths[i] = len(i)\n",
    "            except:\n",
    "                wordcounts[i] = 1\n",
    "    loop = 0\n",
    "    Score={}\n",
    "\n",
    "\n",
    "    for x in pestle:\n",
    "        tempwords=[]\n",
    "        tempscore = 0\n",
    "        Score[x]={'Words':[],'Score':0}\n",
    "        total = 0\n",
    "        for z in reversed(sorted(pestle[x], key=pestle[x].get)):\n",
    "            try:\n",
    "                total += pestle[x][z]\n",
    "            except:\n",
    "                total+=0\n",
    "        for y in reversed(sorted(pestle[x], key=pestle[x].get)):\n",
    "            try:\n",
    "                if loop>=5:\n",
    "                    raise\n",
    "            except:\n",
    "                break\n",
    "            else:\n",
    "                word = y+\":\"\n",
    "                tempscore += pestle[x][y]\n",
    "                tempwords.append(y)\n",
    "                loop+=1\n",
    "        Score[x]['Words']=tempwords\n",
    "        Score[x]['Score']=tempscore/totalkeywords\n",
    "        loop = 0\n",
    "    scorelabels = []\n",
    "    scorenumbers = []\n",
    "    for x in pestle:\n",
    "        scorelabels.append(x)\n",
    "        scorenumbers.append(Score[x]['Score'])\n",
    "\n",
    "\n",
    "    #radar_chart = pg.Radar(range=(.01, max(scorenumbers)+.1))\n",
    "    #radar_chart.title = title+' - PESTLE Score'\n",
    "    #radar_chart.x_labels = scorelabels\n",
    "    #radar_chart.add('Score', scorenumbers)\n",
    "    #radar_chart.render_to_png(title+'-radar_chart.png')\n",
    "    return Score"
   ]
  },
  {
   "cell_type": "markdown",
   "metadata": {},
   "source": [
    "Step 3b: Run function with correct file name and title."
   ]
  },
  {
   "cell_type": "code",
   "execution_count": null,
   "metadata": {
    "collapsed": false
   },
   "outputs": [],
   "source": [
    "#GetScore('Brand Name Pharmaceutical Industry', r\"C:\\Users\\Kelly\\Documents\\MAN6721\\PESTLE\\Industry_10Ks.txt\")"
   ]
  },
  {
   "cell_type": "markdown",
   "metadata": {},
   "source": [
    "*Chart will be printed to a new file.*"
   ]
  },
  {
   "cell_type": "markdown",
   "metadata": {},
   "source": [
    "(Optional) Step 4: Run tool to see how an individual company stacks up with the overall Industry. Ensure you have 'Template.pptx' saved in your local directory."
   ]
  },
  {
   "cell_type": "code",
   "execution_count": 7,
   "metadata": {
    "collapsed": true
   },
   "outputs": [],
   "source": [
    "def createppt(title, filename):\n",
    "    ScoreDiff=0\n",
    "    #Change Industry Name & file location to match Step 3b.\n",
    "    IndustryScore = GetScore('Brand Name Pharmaceutical Industry', r\"C:\\Users\\Christopher\\Documents\\MAN6721\\All.txt\")\n",
    "    CompanyScore = GetScore(title, filename)\n",
    "    prs = pptx.Presentation('Template.pptx')\n",
    "    prs.slides[0].shapes.title.text='PESTLE Company Analysis against Industry'\n",
    "    prs.slides[0].shapes[1].text_frame.text=title\n",
    "\n",
    "    for x in IndustryScore:\n",
    "        slide1 = prs.slides.add_slide(prs.slide_layouts[4])\n",
    "        for shape in slide1.shapes:\n",
    "            shape.text = 'foobar'\n",
    "\n",
    "        p1 = IndustryScore[x]['Words']\n",
    "        p2 = CompanyScore[x]['Words']\n",
    "        slide1.shapes[1].text='Industry - ' + str(IndustryScore[x]['Score'])\n",
    "        slide1.shapes[3].text='Company - '+ str(CompanyScore[x]['Score'])\n",
    "        ScoreDiff += abs(IndustryScore[x]['Score']-CompanyScore[x]['Score'])\n",
    "\n",
    "        text_frame = slide1.shapes[2].text_frame\n",
    "        text_frame.clear()  \n",
    "\n",
    "        p = text_frame.paragraphs[0]\n",
    "        p.text = p1[0]\n",
    "\n",
    "        text_frame2 = slide1.shapes[4].text_frame\n",
    "        text_frame2.clear()  \n",
    "\n",
    "        pp = text_frame2.paragraphs[0]\n",
    "        pp.text = p2[0]\n",
    "\n",
    "        for para_str in p1[1:]:\n",
    "            p = text_frame.add_paragraph()        \n",
    "            p.text = para_str\n",
    "\n",
    "        for para_str in p2[1:]:\n",
    "            pp = text_frame2.add_paragraph()        \n",
    "            pp.text = para_str\n",
    "\n",
    "        title_placeholder = slide1.shapes.title\n",
    "        title_placeholder.text = x.title()\n",
    "\n",
    "\n",
    "    slide7 = prs.slides.add_slide(prs.slide_layouts[8])\n",
    "    placeholder = slide7.placeholders[1]  \n",
    "    title_placeholder = slide7.shapes.title\n",
    "    title_placeholder.text = title.title()+' - Radar Chart'\n",
    "    text_frame3 = slide7.shapes[2].text_frame\n",
    "    text_frame3.clear()\n",
    "    p = text_frame3.paragraphs[0]\n",
    "    p.text = 'Difference in Scores - '+str(ScoreDiff)\n",
    "    picture = placeholder.insert_picture(title+'-radar_chart.png')\n",
    "    \n",
    "    slide8 = prs.slides.add_slide(prs.slide_layouts[8])\n",
    "    placeholder1 = slide8.placeholders[1]  # idx key, not position\n",
    "    title_placeholder = slide8.shapes.title\n",
    "    title_placeholder.text = 'Industry'+' - Radar Chart'\n",
    "    text_frame4 = slide8.shapes[2].text_frame\n",
    "    text_frame4.clear()\n",
    "    p = text_frame4.paragraphs[0]\n",
    "    p.text = 'Brand Name Pharmaceuticals'\n",
    "    picture = placeholder1.insert_picture('Industry-radar_chart.png')\n",
    "    \n",
    "    prs.save(title+'-Analysis.pptx')"
   ]
  },
  {
   "cell_type": "markdown",
   "metadata": {},
   "source": [
    "Step 4a: Gather text 10-K from desired company. Locate where file is stored.\n",
    "\n",
    "Step 4b: Run function with correct name & file location."
   ]
  },
  {
   "cell_type": "code",
   "execution_count": 8,
   "metadata": {
    "collapsed": false
   },
   "outputs": [
    {
     "name": "stderr",
     "output_type": "stream",
     "text": [
      "C:\\Program Files\\Anaconda3\\lib\\site-packages\\openpyxl\\workbook\\names\\named_range.py:124: UserWarning: Discarded range with reserved name\n",
      "  warnings.warn(\"Discarded range with reserved name\")\n"
     ]
    }
   ],
   "source": [
    "createppt('Eli Lilly', r\"C:\\Users\\Christopher\\Documents\\MAN6721\\EliLilly.txt\")"
   ]
  },
  {
   "cell_type": "markdown",
   "metadata": {},
   "source": [
    "*Results will be printed to a new file.*"
   ]
  }
 ],
 "metadata": {
  "anaconda-cloud": {},
  "kernelspec": {
   "display_name": "Python [default]",
   "language": "python",
   "name": "python3"
  },
  "language_info": {
   "codemirror_mode": {
    "name": "ipython",
    "version": 3
   },
   "file_extension": ".py",
   "mimetype": "text/x-python",
   "name": "python",
   "nbconvert_exporter": "python",
   "pygments_lexer": "ipython3",
   "version": "3.5.2"
  }
 },
 "nbformat": 4,
 "nbformat_minor": 1
}
