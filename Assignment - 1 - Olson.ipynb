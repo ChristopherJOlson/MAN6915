{
 "cells": [
  {
   "cell_type": "markdown",
   "metadata": {},
   "source": [
    "# Christopher Olson\n",
    "# Assignment 1"
   ]
  },
  {
   "cell_type": "markdown",
   "metadata": {},
   "source": [
    "## Problem 1\n",
    "\n",
    "This program I take the user's input and concatenate it with the desired output string and then print that output."
   ]
  },
  {
   "cell_type": "code",
   "execution_count": 7,
   "metadata": {
    "collapsed": false
   },
   "outputs": [
    {
     "name": "stdout",
     "output_type": "stream",
     "text": [
      "What is your name?Brian\n",
      "Hello, Brian, nice to meet you!\n"
     ]
    }
   ],
   "source": [
    "Name = input(\"What is your name?\")\n",
    "Output_String=\"Hello, \"+Name+\", nice to meet you!\"\n",
    "print(Output_String)"
   ]
  },
  {
   "cell_type": "markdown",
   "metadata": {},
   "source": [
    "## Problem 2\n",
    "\n",
    "In this program the user inputs a string and the program prints out the string and calculates it's length and converts it to a string for printing."
   ]
  },
  {
   "cell_type": "code",
   "execution_count": null,
   "metadata": {
    "collapsed": false
   },
   "outputs": [],
   "source": [
    "Input_String = input(\"What is the input String?\")\n",
    "print(Input_String+\" has \"+str(len(Input_String))+ \" Characters.\")"
   ]
  },
  {
   "cell_type": "markdown",
   "metadata": {},
   "source": [
    "## Problem 3\n",
    "\n",
    "The user input's a series of prompted strings and the program concatenates them in a print statement into a humourous mad lib."
   ]
  },
  {
   "cell_type": "code",
   "execution_count": 2,
   "metadata": {
    "collapsed": false
   },
   "outputs": [
    {
     "name": "stdout",
     "output_type": "stream",
     "text": [
      "Enter a noun:Frog\n",
      "Enter a verb:jump\n",
      "Enter an adjective:blue\n",
      "Enter an adverb:often\n",
      "Do You jump your blue Frog often?  That's Hilarious.\n"
     ]
    }
   ],
   "source": [
    "noun = input(\"Enter a noun:\")\n",
    "verb = input(\"Enter a verb:\")\n",
    "adjective = input(\"Enter an adjective:\")\n",
    "adverb = input(\"Enter an adverb:\")\n",
    "print(\"Do You \"+verb+\" your \"+adjective+\" \"+noun+\" \"+adverb+\"?  That's Hilarious.\")"
   ]
  },
  {
   "cell_type": "markdown",
   "metadata": {},
   "source": [
    "## Problem 4\n",
    "\n",
    "The program reads in the input from the user for 2 numbers and then converts them to float types.  The program then calculates the sum, difference, product, and quotient between these 2 numbers.  Once they are calculated we then assemble the print statement to show math equations for the calculated values."
   ]
  },
  {
   "cell_type": "code",
   "execution_count": 8,
   "metadata": {
    "collapsed": false
   },
   "outputs": [
    {
     "name": "stdout",
     "output_type": "stream",
     "text": [
      "What is the first number? 2\n",
      "What is the second number? 3\n",
      "2.0+3.0=5.0\n",
      "2.0-3.0=-1.0\n",
      "2.0*3.0=6.0\n",
      "2.0/3.0=0.6666666666666666\n"
     ]
    }
   ],
   "source": [
    "num1 = input(\"What is the first number? \")\n",
    "num2 = input(\"What is the second number? \")\n",
    "num1 = float(num1)\n",
    "num2 = float(num2)\n",
    "numsum = num1+num2\n",
    "numdif = num1-num2\n",
    "numpro = num1*num2\n",
    "numdiv = num1/num2\n",
    "print(str(num1)+\"+\"+str(num2)+\"=\"+str(numsum),str(num1)+\"-\"+str(num2)+\"=\"+str(numdif),str(num1)+\"*\"+str(num2)+\"=\"+str(numpro),str(num1)+\"/\"+str(num2)+\"=\"+str(numdiv),sep='\\n')"
   ]
  },
  {
   "cell_type": "markdown",
   "metadata": {},
   "source": [
    "## Problem 5\n",
    "\n",
    "This program used the datetime function to calculate the current year.  It then took the users current age and desired retirement age and calculated the difference.  It then added that difference to the current year and reported back to the user the year they could retire."
   ]
  },
  {
   "cell_type": "code",
   "execution_count": 10,
   "metadata": {
    "collapsed": false
   },
   "outputs": [
    {
     "name": "stdout",
     "output_type": "stream",
     "text": [
      "What is your current age? 32\n",
      "What age would you like to retire? 45\n",
      "You have 13 years until you can retire.\n",
      "It's 2017 now, so you can retire in 2030.\n"
     ]
    }
   ],
   "source": [
    "import datetime\n",
    "now = datetime.datetime.now()\n",
    "age1 = input(\"What is your current age? \")\n",
    "age2 = input(\"What age would you like to retire? \")\n",
    "yeardif = int(age2)-int(age1)\n",
    "retireyear = int(now.year)+yeardif\n",
    "print(\"You have \"+str(yeardif)+\" years until you can retire.\")\n",
    "print(\"It's \"+str(now.year)+ \" now, so you can retire in \"+str(retireyear)+\".\")"
   ]
  },
  {
   "cell_type": "markdown",
   "metadata": {},
   "source": [
    "## Problem 6\n",
    "\n",
    "This program calculated the area of a room in feet and then using a given conversion formula was able to convert the feet to meters and then recalculate the area in square meters.  The formula made use of the math.sqrt function to solve for meters."
   ]
  },
  {
   "cell_type": "code",
   "execution_count": 10,
   "metadata": {
    "collapsed": false
   },
   "outputs": [
    {
     "name": "stdout",
     "output_type": "stream",
     "text": [
      "What is the length of the room in feet? 20\n",
      "What is the width of the room in feet? 15\n",
      "You entered dimensions 20.0 feet by 15.0 feet.\n",
      "The Area is: \n",
      "300.0 Square Feet\n",
      "27.870912 Square Meters\n"
     ]
    }
   ],
   "source": [
    "import math\n",
    "length = input(\"What is the length of the room in feet? \")\n",
    "width = input(\"What is the width of the room in feet? \")\n",
    "length = float(length)\n",
    "width = float(width)\n",
    "CONV_FACTOR = .09290304\n",
    "length_mt = math.sqrt((length**2)*CONV_FACTOR)\n",
    "width_mt = math.sqrt((width**2)*CONV_FACTOR)\n",
    "area_ft = length*width\n",
    "area_mt = length_mt*width_mt\n",
    "#area_mt = math.sqrt((area_ft**2)*CONV_FACTOR)\n",
    "print(\"You entered dimensions \" + str(length) + \" feet by \" + str(width) + \" feet.\")\n",
    "print(\"The Area is: \")\n",
    "print(area_ft, \"Square Feet\")\n",
    "print(area_mt, \"Square Meters\")"
   ]
  },
  {
   "cell_type": "markdown",
   "metadata": {},
   "source": [
    "## Problem 7\n",
    "\n",
    "This program used the users inputs around people and pizza and slices per pizza to calculate the slices per person and also uses the modulo operator to determine the remainder amount of pizza slices."
   ]
  },
  {
   "cell_type": "code",
   "execution_count": 15,
   "metadata": {
    "collapsed": false
   },
   "outputs": [
    {
     "name": "stdout",
     "output_type": "stream",
     "text": [
      "How many People? 7\n",
      "How many Pizza's do you have? 2\n",
      "How many slices per Pizza? 8\n",
      "7 People with 2 Pizzas\n",
      "Each person gets 2 slices of pizza\n",
      "There will be 2 pieces left over.\n"
     ]
    }
   ],
   "source": [
    "ppl = input(\"How many People? \")\n",
    "pza = input(\"How many Pizza's do you have? \")\n",
    "slc = input(\"How many slices per Pizza? \")\n",
    "\n",
    "print(ppl, \"People with\", pza, \"Pizzas\")\n",
    "perperson = int((int(pza)*int(slc))/int(ppl))\n",
    "leftover = int((int(pza)*int(slc))%int(ppl))\n",
    "\n",
    "print(\"Each person gets\", perperson,\"slices of pizza\\nThere will be\", leftover, \"pieces left over.\")"
   ]
  },
  {
   "cell_type": "markdown",
   "metadata": {},
   "source": [
    "## Problem 8\n",
    "\n",
    "This just needed to use the ceiling function to return the number of gallons of paint needed to paint a room of given dimensions based on the assumption that 1 gallon covers 350 square feet"
   ]
  },
  {
   "cell_type": "code",
   "execution_count": 19,
   "metadata": {
    "collapsed": false
   },
   "outputs": [
    {
     "name": "stdout",
     "output_type": "stream",
     "text": [
      "What is the length of the room in feet? 25\n",
      "What is the width of the room in feet? 30\n",
      "You will need 3 gallons of paint to cover 750 Square feet of ceiling.\n"
     ]
    }
   ],
   "source": [
    "import math\n",
    "length = input(\"What is the length of the room in feet? \")\n",
    "width = input(\"What is the width of the room in feet? \")\n",
    "\n",
    "area = int(length)*int(width)\n",
    "\n",
    "gallons = math.ceil(area/350)\n",
    "\n",
    "print(\"You will need\",gallons,\"gallons of paint to cover\",area,\"Square feet of ceiling.\")"
   ]
  },
  {
   "cell_type": "markdown",
   "metadata": {},
   "source": [
    "## Problem 9\n",
    "\n",
    "This program was simply adding and multiplying quantity and prices of items, the format in the output string ensured that the output would cut to 2 decimal places."
   ]
  },
  {
   "cell_type": "code",
   "execution_count": 11,
   "metadata": {
    "collapsed": false
   },
   "outputs": [
    {
     "name": "stdout",
     "output_type": "stream",
     "text": [
      "Enter the price of item 1: 25\n",
      "Enter the quantity of item 1: 1\n",
      "Enter the price of item 2: 3.20\n",
      "Enter the quantity of item 2: 5\n",
      "Enter the price of item 3: 12\n",
      "Enter the quantity of item 3: 6\n",
      "Subtotal: $113.00\n",
      "Tax: $6.21\n",
      "Total: $119.22\n"
     ]
    }
   ],
   "source": [
    "p1 = float(input(\"Enter the price of item 1: \"))\n",
    "q1 = int(input(\"Enter the quantity of item 1: \"))\n",
    "p2 = float(input(\"Enter the price of item 2: \"))\n",
    "q2 = int(input(\"Enter the quantity of item 2: \"))\n",
    "p3 = float(input(\"Enter the price of item 3: \"))\n",
    "q3 = int(input(\"Enter the quantity of item 3: \"))\n",
    "\n",
    "subtotal = p1*q1 + p2*q2 + p3*q3\n",
    "tax = subtotal * .055\n",
    "total = subtotal+tax\n",
    "output = \"Subtotal: $\"+\"{0:.2f}\".format(subtotal)+\"\\nTax: $\"+\"{0:.2f}\".format(tax)+\"\\nTotal: $\"+\"{0:.2f}\".format(total)\n",
    "\n",
    "print(output)"
   ]
  },
  {
   "cell_type": "markdown",
   "metadata": {},
   "source": [
    "## Problem 10\n",
    "\n",
    "This needed to round to the nearest penny so i multiplied the float by 100 to move the decimal place to the integer space then used the ceiling function, then i divided it back by 100 to get it to the 2 decimal places.  The rest is self explanatory."
   ]
  },
  {
   "cell_type": "code",
   "execution_count": 9,
   "metadata": {
    "collapsed": false
   },
   "outputs": [
    {
     "name": "stdout",
     "output_type": "stream",
     "text": [
      "Enter the principal: 12.75\n",
      "Enter the rate of interest: 6\n",
      "Enter the number of years: 15\n",
      "After 15 years at 6.0% interest the investment of $12.75 will be worth $24.23 .\n"
     ]
    }
   ],
   "source": [
    "import math\n",
    "P = float(input(\"Enter the principal: \"))\n",
    "intrate = float(input(\"Enter the rate of interest: \"))\n",
    "t = int(input(\"Enter the number of years: \"))\n",
    "\n",
    "r = intrate/100\n",
    "\n",
    "A = P*(1+r*t)\n",
    "\n",
    "FinalAmount = math.ceil((A*100))/100\n",
    "\n",
    "print(\"After\",t,\"years at\", str(intrate)+\"%\", \"interest the investment of\",\"$\"+str(P), \"will be worth\",\"$\"+str(FinalAmount),\".\")\n",
    "\n"
   ]
  }
 ],
 "metadata": {
  "anaconda-cloud": {},
  "kernelspec": {
   "display_name": "Python [conda root]",
   "language": "python",
   "name": "conda-root-py"
  },
  "language_info": {
   "codemirror_mode": {
    "name": "ipython",
    "version": 3
   },
   "file_extension": ".py",
   "mimetype": "text/x-python",
   "name": "python",
   "nbconvert_exporter": "python",
   "pygments_lexer": "ipython3",
   "version": "3.5.2"
  }
 },
 "nbformat": 4,
 "nbformat_minor": 1
}
