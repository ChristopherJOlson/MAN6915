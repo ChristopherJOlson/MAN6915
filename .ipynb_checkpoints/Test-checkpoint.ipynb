{
 "cells": [
  {
   "cell_type": "code",
   "execution_count": 5,
   "metadata": {
    "collapsed": false,
    "scrolled": true
   },
   "outputs": [
    {
     "name": "stdout",
     "output_type": "stream",
     "text": [
      "testing -  1\n",
      "testing -  2\n",
      "testing -  3\n",
      "testing -  4\n",
      "testing -  5\n",
      "testing -  6\n",
      "testing -  7\n",
      "testing -  8\n",
      "testing -  9\n"
     ]
    }
   ],
   "source": [
    "for x in range(1,10):\n",
    "  print(\"testing - \", x);"
   ]
  },
  {
   "cell_type": "markdown",
   "metadata": {},
   "source": [
    "# Testing Program"
   ]
  },
  {
   "cell_type": "code",
   "execution_count": 1,
   "metadata": {
    "collapsed": false
   },
   "outputs": [
    {
     "name": "stdout",
     "output_type": "stream",
     "text": [
      "encryption\n",
      "None\n"
     ]
    }
   ],
   "source": [
    "def answer(s):\n",
    "    translate={}\n",
    "    i=1\n",
    "    for x in range(97,123):\n",
    "        translate[chr(x)]=chr(123-i)\n",
    "        i+=1\n",
    "    def translator(lookup, char):\n",
    "        return lookup[char]\n",
    "    Sentence_Translated=\"\"\n",
    "    for i in s:\n",
    "        if 97<=ord(i)<=123:\n",
    "            Sentence_Translated+=translator(translate, i)\n",
    "        else:\n",
    "            Sentence_Translated+=i\n",
    "    print(Sentence_Translated)\n",
    "print(answer(\"vmxibkgrlm\"))"
   ]
  },
  {
   "cell_type": "code",
   "execution_count": 8,
   "metadata": {
    "collapsed": false
   },
   "outputs": [
    {
     "name": "stdout",
     "output_type": "stream",
     "text": [
      "320\n",
      "580\n",
      "484\n"
     ]
    }
   ],
   "source": [
    "def answer(n,b):\n",
    "    def baseconversion(number, b):\n",
    "        conversiontotal = 0\n",
    "        i=0\n",
    "        for x in range(len(number)-1,-1,-1):\n",
    "            conversiontotal += int(number[i])*(b**x)\n",
    "            i+=1\n",
    "        return conversiontotal\n",
    "    print(baseconversion(str(n),b))\n",
    "answer(102212,3)\n",
    "answer(210111,3)\n",
    "answer(122221,3)"
   ]
  },
  {
   "cell_type": "code",
   "execution_count": 24,
   "metadata": {
    "collapsed": false
   },
   "outputs": [
    {
     "name": "stdout",
     "output_type": "stream",
     "text": [
      "123213212123112123\n",
      "222211033332221112\n",
      "322210333333221111\n",
      "322222033332111111\n",
      "322221033332211111\n",
      "322221033332211111\n",
      "ID Location: 4 - Length 5 - Distance: 1\n"
     ]
    },
    {
     "data": {
      "text/plain": [
       "1"
      ]
     },
     "execution_count": 24,
     "metadata": {},
     "output_type": "execute_result"
    }
   ],
   "source": [
    "def answer(n,b):\n",
    "    def basesubtraction(x,y,b):\n",
    "        diff = []\n",
    "        for i in range(len(x)-1,-1,-1):\n",
    "            #print(\"x: {}, y: {}\".format(x[i],y[i]))\n",
    "            if int(y[i])<=int(x[i]):\n",
    "                diff.append(str(int(x[i])-int(y[i])))\n",
    "            else:\n",
    "                diff.append(str(int(x[i])+b-int(y[i])))\n",
    "                for j in range(i-1,-1,-1):\n",
    "                    if x[j]==0:\n",
    "                        x[j]=b\n",
    "                        continue\n",
    "                    else:\n",
    "                        x[j]=int(x[j])-1\n",
    "                        break\n",
    "        for k in range(0,len(x)-len(diff)):\n",
    "            diff.append('0')\n",
    "        finaldiff = diff[::-1]\n",
    "        #print(finaldiff)\n",
    "        return finaldiff\n",
    "    \n",
    "    \n",
    "    \n",
    "    \n",
    "    const=0\n",
    "    IDS = []\n",
    "    LastID = str(n)\n",
    "    print(LastID)\n",
    "    while LastID not in IDS:\n",
    "        if int(LastID)==0:\n",
    "            const = 1\n",
    "            break\n",
    "        IDS.append(LastID)\n",
    "        y = sorted(LastID)\n",
    "        x = y[::-1]\n",
    "        difflist = basesubtraction(x,y,b)\n",
    "        LastID=''.join(difflist)\n",
    "        print(LastID)\n",
    "    #print(IDS)\n",
    "    if const == 1:\n",
    "        solution = 1\n",
    "    else:\n",
    "        solution = len(IDS)-IDS.index(LastID)\n",
    "        print(\"ID Location: {} - Length {} - Distance: {}\".format(IDS.index(LastID),len(IDS),solution))\n",
    "    return int(solution)\n",
    "answer(123213212123112123,4)"
   ]
  }
 ],
 "metadata": {
  "anaconda-cloud": {},
  "kernelspec": {
   "display_name": "Python [conda root]",
   "language": "python",
   "name": "conda-root-py"
  },
  "language_info": {
   "codemirror_mode": {
    "name": "ipython",
    "version": 3
   },
   "file_extension": ".py",
   "mimetype": "text/x-python",
   "name": "python",
   "nbconvert_exporter": "python",
   "pygments_lexer": "ipython3",
   "version": "3.5.2"
  }
 },
 "nbformat": 4,
 "nbformat_minor": 1
}
