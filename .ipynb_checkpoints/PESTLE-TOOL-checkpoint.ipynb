{
 "cells": [
  {
   "cell_type": "code",
   "execution_count": 1,
   "metadata": {
    "collapsed": false
   },
   "outputs": [
    {
     "name": "stdout",
     "output_type": "stream",
     "text": [
      "Collecting pygal\n",
      "  Using cached pygal-2.4.0-py2.py3-none-any.whl\n",
      "Installing collected packages: pygal\n",
      "Successfully installed pygal-2.4.0\n"
     ]
    }
   ],
   "source": [
    "!pip install pygal"
   ]
  },
  {
   "cell_type": "code",
   "execution_count": 5,
   "metadata": {
    "collapsed": false
   },
   "outputs": [
    {
     "name": "stderr",
     "output_type": "stream",
     "text": [
      "C:\\Program Files\\Anaconda3\\lib\\site-packages\\openpyxl\\workbook\\names\\named_range.py:124: UserWarning: Discarded range with reserved name\n",
      "  warnings.warn(\"Discarded range with reserved name\")\n"
     ]
    },
    {
     "name": "stdout",
     "output_type": "stream",
     "text": [
      "---------------------ecological-----------------------\n",
      "impact:              78\n",
      "protection:          76\n",
      "global:              42\n",
      "local:               16\n",
      "violation:           15\n",
      "---------------------political-----------------------\n",
      "tax:                 270\n",
      "country:             89\n",
      "committee:           84\n",
      "state:               76\n",
      "president:           43\n",
      "---------------------socio-cultural-----------------------\n",
      "event:               72\n",
      "responsibility:      15\n",
      "consumer:            11\n",
      "national:            6\n",
      "social:              6\n",
      "---------------------legal-----------------------\n",
      "patent:              222\n",
      "compensation:        74\n",
      "court:               72\n",
      "law:                 69\n",
      "standard:            60\n",
      "---------------------economical-----------------------\n",
      "stock:               250\n",
      "rate:                173\n",
      "market:              143\n",
      "acquisition:         86\n",
      "debt:                74\n",
      "---------------------technological-----------------------\n",
      "patent:              222\n",
      "development:         151\n",
      "data:                89\n",
      "research:            84\n",
      "alternative:         21\n",
      "ecological {'Score': 0.06293318547269199, 'Words': ['impact', 'protection', 'global', 'local', 'violation']}\n",
      "political {'Score': 0.15580815081785418, 'Words': ['tax', 'country', 'committee', 'state', 'president']}\n",
      "socio-cultural {'Score': 0.03049625727751594, 'Words': ['event', 'responsibility', 'consumer', 'national', 'social']}\n",
      "legal {'Score': 0.1377876351538675, 'Words': ['patent', 'compensation', 'court', 'law', 'standard']}\n",
      "economical {'Score': 0.2012752980316052, 'Words': ['stock', 'rate', 'market', 'acquisition', 'debt']}\n",
      "technological {'Score': 0.15719434433046853, 'Words': ['patent', 'development', 'data', 'research', 'alternative']}\n"
     ]
    },
    {
     "data": {
      "text/plain": [
       "b'<?xml version=\\'1.0\\' encoding=\\'utf-8\\'?>\\n<svg xmlns:xlink=\"http://www.w3.org/1999/xlink\" xmlns=\"http://www.w3.org/2000/svg\" id=\"chart-69872f5c-56bf-4c42-92bb-eaab383439fa\" class=\"pygal-chart\" viewBox=\"0 0 800 600\"><!--Generated with pygal 2.4.0 (lxml) \\xc2\\xa9Kozea 2012-2016 on 2017-07-10--><!--http://pygal.org--><!--http://github.com/Kozea/pygal--><defs><style type=\"text/css\">#chart-69872f5c-56bf-4c42-92bb-eaab383439fa{-webkit-user-select:none;-webkit-font-smoothing:antialiased;font-family:Consolas,\"Liberation Mono\",Menlo,Courier,monospace}#chart-69872f5c-56bf-4c42-92bb-eaab383439fa .title{font-family:Consolas,\"Liberation Mono\",Menlo,Courier,monospace;font-size:16px}#chart-69872f5c-56bf-4c42-92bb-eaab383439fa .legends .legend text{font-family:Consolas,\"Liberation Mono\",Menlo,Courier,monospace;font-size:14px}#chart-69872f5c-56bf-4c42-92bb-eaab383439fa .axis text{font-family:Consolas,\"Liberation Mono\",Menlo,Courier,monospace;font-size:10px}#chart-69872f5c-56bf-4c42-92bb-eaab383439fa .axis text.major{font-family:Consolas,\"Liberation Mono\",Menlo,Courier,monospace;font-size:10px}#chart-69872f5c-56bf-4c42-92bb-eaab383439fa .text-overlay text.value{font-family:Consolas,\"Liberation Mono\",Menlo,Courier,monospace;font-size:16px}#chart-69872f5c-56bf-4c42-92bb-eaab383439fa .text-overlay text.label{font-family:Consolas,\"Liberation Mono\",Menlo,Courier,monospace;font-size:10px}#chart-69872f5c-56bf-4c42-92bb-eaab383439fa .tooltip{font-family:Consolas,\"Liberation Mono\",Menlo,Courier,monospace;font-size:14px}#chart-69872f5c-56bf-4c42-92bb-eaab383439fa text.no_data{font-family:Consolas,\"Liberation Mono\",Menlo,Courier,monospace;font-size:64px}\\n#chart-69872f5c-56bf-4c42-92bb-eaab383439fa{background-color:rgba(249,249,249,1)}#chart-69872f5c-56bf-4c42-92bb-eaab383439fa path,#chart-69872f5c-56bf-4c42-92bb-eaab383439fa line,#chart-69872f5c-56bf-4c42-92bb-eaab383439fa rect,#chart-69872f5c-56bf-4c42-92bb-eaab383439fa circle{-webkit-transition:150ms;-moz-transition:150ms;transition:150ms}#chart-69872f5c-56bf-4c42-92bb-eaab383439fa .graph &gt; .background{fill:rgba(249,249,249,1)}#chart-69872f5c-56bf-4c42-92bb-eaab383439fa .plot &gt; .background{fill:rgba(255,255,255,1)}#chart-69872f5c-56bf-4c42-92bb-eaab383439fa .graph{fill:rgba(0,0,0,.87)}#chart-69872f5c-56bf-4c42-92bb-eaab383439fa text.no_data{fill:rgba(0,0,0,1)}#chart-69872f5c-56bf-4c42-92bb-eaab383439fa .title{fill:rgba(0,0,0,1)}#chart-69872f5c-56bf-4c42-92bb-eaab383439fa .legends .legend text{fill:rgba(0,0,0,.87)}#chart-69872f5c-56bf-4c42-92bb-eaab383439fa .legends .legend:hover text{fill:rgba(0,0,0,1)}#chart-69872f5c-56bf-4c42-92bb-eaab383439fa .axis .line{stroke:rgba(0,0,0,1)}#chart-69872f5c-56bf-4c42-92bb-eaab383439fa .axis .guide.line{stroke:rgba(0,0,0,.54)}#chart-69872f5c-56bf-4c42-92bb-eaab383439fa .axis .major.line{stroke:rgba(0,0,0,.87)}#chart-69872f5c-56bf-4c42-92bb-eaab383439fa .axis text.major{fill:rgba(0,0,0,1)}#chart-69872f5c-56bf-4c42-92bb-eaab383439fa .axis.y .guides:hover .guide.line,#chart-69872f5c-56bf-4c42-92bb-eaab383439fa .line-graph .axis.x .guides:hover .guide.line,#chart-69872f5c-56bf-4c42-92bb-eaab383439fa .stackedline-graph .axis.x .guides:hover .guide.line,#chart-69872f5c-56bf-4c42-92bb-eaab383439fa .xy-graph .axis.x .guides:hover .guide.line{stroke:rgba(0,0,0,1)}#chart-69872f5c-56bf-4c42-92bb-eaab383439fa .axis .guides:hover text{fill:rgba(0,0,0,1)}#chart-69872f5c-56bf-4c42-92bb-eaab383439fa .reactive{fill-opacity:.7;stroke-opacity:.8}#chart-69872f5c-56bf-4c42-92bb-eaab383439fa .ci{stroke:rgba(0,0,0,.87)}#chart-69872f5c-56bf-4c42-92bb-eaab383439fa .reactive.active,#chart-69872f5c-56bf-4c42-92bb-eaab383439fa .active .reactive{fill-opacity:.8;stroke-opacity:.9;stroke-width:4}#chart-69872f5c-56bf-4c42-92bb-eaab383439fa .ci .reactive.active{stroke-width:1.5}#chart-69872f5c-56bf-4c42-92bb-eaab383439fa .series text{fill:rgba(0,0,0,1)}#chart-69872f5c-56bf-4c42-92bb-eaab383439fa .tooltip rect{fill:rgba(255,255,255,1);stroke:rgba(0,0,0,1);-webkit-transition:opacity 150ms;-moz-transition:opacity 150ms;transition:opacity 150ms}#chart-69872f5c-56bf-4c42-92bb-eaab383439fa .tooltip .label{fill:rgba(0,0,0,.87)}#chart-69872f5c-56bf-4c42-92bb-eaab383439fa .tooltip .label{fill:rgba(0,0,0,.87)}#chart-69872f5c-56bf-4c42-92bb-eaab383439fa .tooltip .legend{font-size:.8em;fill:rgba(0,0,0,.54)}#chart-69872f5c-56bf-4c42-92bb-eaab383439fa .tooltip .x_label{font-size:.6em;fill:rgba(0,0,0,1)}#chart-69872f5c-56bf-4c42-92bb-eaab383439fa .tooltip .xlink{font-size:.5em;text-decoration:underline}#chart-69872f5c-56bf-4c42-92bb-eaab383439fa .tooltip .value{font-size:1.5em}#chart-69872f5c-56bf-4c42-92bb-eaab383439fa .bound{font-size:.5em}#chart-69872f5c-56bf-4c42-92bb-eaab383439fa .max-value{font-size:.75em;fill:rgba(0,0,0,.54)}#chart-69872f5c-56bf-4c42-92bb-eaab383439fa .map-element{fill:rgba(255,255,255,1);stroke:rgba(0,0,0,.54) !important}#chart-69872f5c-56bf-4c42-92bb-eaab383439fa .map-element .reactive{fill-opacity:inherit;stroke-opacity:inherit}#chart-69872f5c-56bf-4c42-92bb-eaab383439fa .color-0,#chart-69872f5c-56bf-4c42-92bb-eaab383439fa .color-0 a:visited{stroke:#F44336;fill:#F44336}#chart-69872f5c-56bf-4c42-92bb-eaab383439fa .text-overlay .color-0 text{fill:black}\\n#chart-69872f5c-56bf-4c42-92bb-eaab383439fa text.no_data{text-anchor:middle}#chart-69872f5c-56bf-4c42-92bb-eaab383439fa .guide.line{fill:none}#chart-69872f5c-56bf-4c42-92bb-eaab383439fa .centered{text-anchor:middle}#chart-69872f5c-56bf-4c42-92bb-eaab383439fa .title{text-anchor:middle}#chart-69872f5c-56bf-4c42-92bb-eaab383439fa .legends .legend text{fill-opacity:1}#chart-69872f5c-56bf-4c42-92bb-eaab383439fa .axis.x text{text-anchor:middle}#chart-69872f5c-56bf-4c42-92bb-eaab383439fa .axis.x:not(.web) text[transform]{text-anchor:start}#chart-69872f5c-56bf-4c42-92bb-eaab383439fa .axis.x:not(.web) text[transform].backwards{text-anchor:end}#chart-69872f5c-56bf-4c42-92bb-eaab383439fa .axis.y text{text-anchor:end}#chart-69872f5c-56bf-4c42-92bb-eaab383439fa .axis.y text[transform].backwards{text-anchor:start}#chart-69872f5c-56bf-4c42-92bb-eaab383439fa .axis.y2 text{text-anchor:start}#chart-69872f5c-56bf-4c42-92bb-eaab383439fa .axis.y2 text[transform].backwards{text-anchor:end}#chart-69872f5c-56bf-4c42-92bb-eaab383439fa .axis .guide.line{stroke-dasharray:4,4}#chart-69872f5c-56bf-4c42-92bb-eaab383439fa .axis .major.guide.line{stroke-dasharray:6,6}#chart-69872f5c-56bf-4c42-92bb-eaab383439fa .horizontal .axis.y .guide.line,#chart-69872f5c-56bf-4c42-92bb-eaab383439fa .horizontal .axis.y2 .guide.line,#chart-69872f5c-56bf-4c42-92bb-eaab383439fa .vertical .axis.x .guide.line{opacity:0}#chart-69872f5c-56bf-4c42-92bb-eaab383439fa .horizontal .axis.always_show .guide.line,#chart-69872f5c-56bf-4c42-92bb-eaab383439fa .vertical .axis.always_show .guide.line{opacity:1 !important}#chart-69872f5c-56bf-4c42-92bb-eaab383439fa .axis.y .guides:hover .guide.line,#chart-69872f5c-56bf-4c42-92bb-eaab383439fa .axis.y2 .guides:hover .guide.line,#chart-69872f5c-56bf-4c42-92bb-eaab383439fa .axis.x .guides:hover .guide.line{opacity:1}#chart-69872f5c-56bf-4c42-92bb-eaab383439fa .axis .guides:hover text{opacity:1}#chart-69872f5c-56bf-4c42-92bb-eaab383439fa .nofill{fill:none}#chart-69872f5c-56bf-4c42-92bb-eaab383439fa .subtle-fill{fill-opacity:.2}#chart-69872f5c-56bf-4c42-92bb-eaab383439fa .dot{stroke-width:1px;fill-opacity:1}#chart-69872f5c-56bf-4c42-92bb-eaab383439fa .dot.active{stroke-width:5px}#chart-69872f5c-56bf-4c42-92bb-eaab383439fa .dot.negative{fill:transparent}#chart-69872f5c-56bf-4c42-92bb-eaab383439fa text,#chart-69872f5c-56bf-4c42-92bb-eaab383439fa tspan{stroke:none !important}#chart-69872f5c-56bf-4c42-92bb-eaab383439fa .series text.active{opacity:1}#chart-69872f5c-56bf-4c42-92bb-eaab383439fa .tooltip rect{fill-opacity:.95;stroke-width:.5}#chart-69872f5c-56bf-4c42-92bb-eaab383439fa .tooltip text{fill-opacity:1}#chart-69872f5c-56bf-4c42-92bb-eaab383439fa .showable{visibility:hidden}#chart-69872f5c-56bf-4c42-92bb-eaab383439fa .showable.shown{visibility:visible}#chart-69872f5c-56bf-4c42-92bb-eaab383439fa .gauge-background{fill:rgba(229,229,229,1);stroke:none}#chart-69872f5c-56bf-4c42-92bb-eaab383439fa .bg-lines{stroke:rgba(249,249,249,1);stroke-width:2px}</style><script type=\"text/javascript\">window.pygal = window.pygal || {};window.pygal.config = window.pygal.config || {};window.pygal.config[\\'69872f5c-56bf-4c42-92bb-eaab383439fa\\'] = {\"fill\": false, \"xrange\": null, \"stroke\": true, \"min_scale\": 4, \"x_labels_major\": null, \"missing_value_fill_truncation\": \"x\", \"margin_bottom\": null, \"truncate_legend\": null, \"formatter\": null, \"print_zeroes\": true, \"width\": 800, \"y_label_rotation\": 0, \"print_values\": false, \"x_labels_major_count\": null, \"stack_from_top\": false, \"y_labels\": null, \"legend_box_size\": 12, \"inner_radius\": 0, \"interpolate\": null, \"height\": 600, \"truncate_label\": null, \"tooltip_border_radius\": 0, \"order_min\": null, \"margin_right\": null, \"margin_left\": null, \"y_title\": null, \"pretty_print\": false, \"range\": [0.01, 1], \"x_labels\": [\"ecological\", \"political\", \"socio-cultural\", \"legal\", \"economical\", \"technological\"], \"y_labels_major\": null, \"interpolation_precision\": 250, \"logarithmic\": false, \"show_dots\": true, \"legend_at_bottom_columns\": null, \"stroke_style\": null, \"force_uri_protocol\": \"https\", \"title\": \"PESTLE Score\", \"show_x_labels\": true, \"show_minor_y_labels\": true, \"no_prefix\": false, \"show_legend\": true, \"zero\": 0, \"js\": [\"//kozea.github.io/pygal.js/2.0.x/pygal-tooltips.min.js\"], \"disable_xml_declaration\": false, \"y_labels_major_every\": null, \"dots_size\": 2.5, \"dynamic_print_values\": false, \"no_data_text\": \"No data\", \"print_labels\": false, \"legend_at_bottom\": false, \"y_labels_major_count\": null, \"x_label_rotation\": 0, \"show_y_labels\": true, \"legends\": [\"Score\"], \"tooltip_fancy_mode\": true, \"margin_top\": null, \"half_pie\": false, \"allow_interruptions\": false, \"show_minor_x_labels\": true, \"max_scale\": 16, \"secondary_range\": null, \"show_x_guides\": false, \"box_mode\": \"extremes\", \"include_x_axis\": false, \"defs\": [], \"style\": {\"value_colors\": [], \"ci_colors\": [], \"colors\": [\"#F44336\", \"#3F51B5\", \"#009688\", \"#FFC107\", \"#FF5722\", \"#9C27B0\", \"#03A9F4\", \"#8BC34A\", \"#FF9800\", \"#E91E63\", \"#2196F3\", \"#4CAF50\", \"#FFEB3B\", \"#673AB7\", \"#00BCD4\", \"#CDDC39\", \"#9E9E9E\", \"#607D8B\"], \"label_font_size\": 10, \"label_font_family\": \"Consolas, \\\\\"Liberation Mono\\\\\", Menlo, Courier, monospace\", \"foreground\": \"rgba(0, 0, 0, .87)\", \"value_font_family\": \"Consolas, \\\\\"Liberation Mono\\\\\", Menlo, Courier, monospace\", \"stroke_opacity_hover\": \".9\", \"legend_font_size\": 14, \"stroke_opacity\": \".8\", \"plot_background\": \"rgba(255, 255, 255, 1)\", \"title_font_family\": \"Consolas, \\\\\"Liberation Mono\\\\\", Menlo, Courier, monospace\", \"major_label_font_family\": \"Consolas, \\\\\"Liberation Mono\\\\\", Menlo, Courier, monospace\", \"tooltip_font_size\": 14, \"opacity_hover\": \".8\", \"title_font_size\": 16, \"major_label_font_size\": 10, \"background\": \"rgba(249, 249, 249, 1)\", \"value_font_size\": 16, \"font_family\": \"Consolas, \\\\\"Liberation Mono\\\\\", Menlo, Courier, monospace\", \"major_guide_stroke_dasharray\": \"6,6\", \"tooltip_font_family\": \"Consolas, \\\\\"Liberation Mono\\\\\", Menlo, Courier, monospace\", \"value_label_font_size\": 10, \"opacity\": \".7\", \"value_label_font_family\": \"Consolas, \\\\\"Liberation Mono\\\\\", Menlo, Courier, monospace\", \"legend_font_family\": \"Consolas, \\\\\"Liberation Mono\\\\\", Menlo, Courier, monospace\", \"guide_stroke_dasharray\": \"4,4\", \"value_background\": \"rgba(229, 229, 229, 1)\", \"foreground_strong\": \"rgba(0, 0, 0, 1)\", \"no_data_font_size\": 64, \"no_data_font_family\": \"Consolas, \\\\\"Liberation Mono\\\\\", Menlo, Courier, monospace\", \"foreground_subtle\": \"rgba(0, 0, 0, .54)\", \"transition\": \"150ms\"}, \"print_values_position\": \"center\", \"inverse_y_axis\": false, \"strict\": false, \"show_y_guides\": true, \"interpolation_parameters\": {}, \"classes\": [\"pygal-chart\"], \"x_labels_major_every\": null, \"rounded_bars\": null, \"margin\": 20, \"x_title\": null, \"show_only_major_dots\": false, \"explicit_size\": false, \"spacing\": 10, \"css\": [\"file://style.css\", \"file://graph.css\"]}</script><script type=\"text/javascript\" xlink:href=\"https://kozea.github.io/pygal.js/2.0.x/pygal-tooltips.min.js\"/></defs><title>PESTLE Score</title><g class=\"graph radar-graph vertical\"><rect class=\"background\" height=\"600\" width=\"800\" x=\"0\" y=\"0\"/><g class=\"plot\" transform=\"translate(112, 46)\"><rect class=\"background\" height=\"514\" width=\"668.0\" x=\"0\" y=\"0\"/><g class=\"axis y web\"><g class=\"guides\"><path class=\"major guide line\" d=\"M334.000000 19.037037 L66.173625 138.018519 66.173625 375.981481 334.000000 494.962963 601.826375 375.981481 601.826375 138.018519 334.000000 19.037037 Z\"/><text class=\"major\" x=\"329.0\" y=\"19.03703703703701\">1</text><title>1</title></g><g class=\"guides\"><path class=\"guide line\" d=\"M334.000000 66.629630 L119.738900 161.814815 119.738900 352.185185 334.000000 447.370370 548.261100 352.185185 548.261100 161.814815 334.000000 66.629630 Z\"/><text class=\"\" x=\"329.0\" y=\"66.62962962962962\">0.8</text><title>0.8</title></g><g class=\"guides\"><path class=\"guide line\" d=\"M334.000000 114.222222 L173.304175 185.611111 173.304175 328.388889 334.000000 399.777778 494.695825 328.388889 494.695825 185.611111 334.000000 114.222222 Z\"/><text class=\"\" x=\"329.0\" y=\"114.22222222222223\">0.6</text><title>0.6</title></g><g class=\"guides\"><path class=\"guide line\" d=\"M334.000000 161.814815 L226.869450 209.407407 226.869450 304.592593 334.000000 352.185185 441.130550 304.592593 441.130550 209.407407 334.000000 161.814815 Z\"/><text class=\"\" x=\"329.0\" y=\"161.81481481481484\">0.4</text><title>0.4</title></g><g class=\"guides\"><path class=\"guide line\" d=\"M334.000000 209.407407 L280.434725 233.203704 280.434725 280.796296 334.000000 304.592593 387.565275 280.796296 387.565275 233.203704 334.000000 209.407407 Z\"/><text class=\"\" x=\"329.0\" y=\"209.40740740740745\">0.2</text><title>0.2</title></g><g class=\"guides\"><path class=\"major guide line\" d=\"M334.000000 257.000000 L334.000000 257.000000 334.000000 257.000000 334.000000 257.000000 334.000000 257.000000 334.000000 257.000000 334.000000 257.000000 Z\"/><text class=\"major\" x=\"329.0\" y=\"257.0\">0</text><title>0</title></g></g><g class=\"axis x web\"><g class=\"guides\"><path class=\"line\" d=\"M334.000000 257.000000 L334.000000 19.037037\"/><text class=\"\" x=\"334.0\" y=\"5.140000000000043\" transform=\"rotate(0.000000 334.000000 5.140000)\">ecological</text><title>1.570796327</title></g><g class=\"guides\"><path class=\"line\" d=\"M334.000000 257.000000 L66.173625 138.018519\"/><text class=\"\" x=\"50.532564833277625\" y=\"131.06999999999994\" transform=\"rotate(-60.000000 50.532565 131.070000)\">political</text><title>2.617993878</title></g><g class=\"guides\"><path class=\"line\" d=\"M334.000000 257.000000 L66.173625 375.981481\"/><text class=\"\" x=\"50.53256483327749\" y=\"382.9299999999999\" transform=\"rotate(-300.000000 50.532565 382.930000)\">socio-cultural</text><title>3.665191429</title></g><g class=\"guides\"><path class=\"line\" d=\"M334.000000 257.000000 L334.000000 494.962963\"/><text class=\"\" x=\"333.99999999999994\" y=\"508.86\" transform=\"rotate(-360.000000 334.000000 508.860000)\">legal</text><title>4.71238898</title></g><g class=\"guides\"><path class=\"line\" d=\"M334.000000 257.000000 L601.826375 375.981481\"/><text class=\"\" x=\"617.4674351667223\" y=\"382.93000000000006\" transform=\"rotate(-420.000000 617.467435 382.930000)\">economical</text><title>5.759586532</title></g><g class=\"guides\"><path class=\"line\" d=\"M334.000000 257.000000 L601.826375 138.018519\"/><text class=\"\" x=\"617.4674351667226\" y=\"131.07000000000022\" transform=\"rotate(-300.000000 617.467435 131.070000)\">technological</text><title>6.806784083</title></g></g><g class=\"series serie-0 color-0\"><path class=\"line reactive nofill\" d=\"M334.000000 242.024233 L292.270468 238.461715 325.832298 260.628490 334.000000 289.788354 387.906833 280.948033 376.100791 238.296784 Z\"/></g></g><g class=\"titles\"><text class=\"title plot_title\" x=\"400.0\" y=\"26\">PESTLE Score</text></g><g class=\"plot overlay\" transform=\"translate(112, 46)\"><g class=\"series serie-0 color-0\"><g class=\"dots\"><circle class=\"dot reactive tooltip-trigger\" cx=\"334.0\" cy=\"242.02423271622047\" r=\"2.5\"/><desc class=\"value\">0.06293318547</desc><desc class=\"x \">334.0</desc><desc class=\"y \">242.02423271622047</desc><desc class=\"x_label\">ecological</desc></g><g class=\"dots\"><circle class=\"dot reactive tooltip-trigger\" cx=\"292.2704677906207\" cy=\"238.46171538880162\" r=\"2.5\"/><desc class=\"value\">0.1558081508</desc><desc class=\"x \">292.2704677906207</desc><desc class=\"y \">238.46171538880162</desc><desc class=\"x_label\">political</desc></g><g class=\"dots\"><circle class=\"dot reactive tooltip-trigger\" cx=\"325.83229796613574\" cy=\"260.6284898705193\" r=\"2.5\"/><desc class=\"value\">0.03049625728</desc><desc class=\"x top\">325.83229796613574</desc><desc class=\"y top\">260.6284898705193</desc><desc class=\"x_label\">socio-cultural</desc></g><g class=\"dots\"><circle class=\"dot reactive tooltip-trigger\" cx=\"334.0\" cy=\"289.788353920874\" r=\"2.5\"/><desc class=\"value\">0.1377876352</desc><desc class=\"x top\">334.0</desc><desc class=\"y top\">289.788353920874</desc><desc class=\"x_label\">legal</desc></g><g class=\"dots\"><circle class=\"dot reactive tooltip-trigger\" cx=\"387.90683342350417\" cy=\"280.94803314542713\" r=\"2.5\"/><desc class=\"value\">0.201275298</desc><desc class=\"x left top\">387.90683342350417</desc><desc class=\"y left top\">280.94803314542713</desc><desc class=\"x_label\">economical</desc></g><g class=\"dots\"><circle class=\"dot reactive tooltip-trigger\" cx=\"376.1007913927367\" cy=\"238.29678403105078\" r=\"2.5\"/><desc class=\"value\">0.1571943443</desc><desc class=\"x left\">376.1007913927367</desc><desc class=\"y left\">238.29678403105078</desc><desc class=\"x_label\">technological</desc></g></g></g><g class=\"plot text-overlay\" transform=\"translate(112, 46)\"><g class=\"series serie-0 color-0\"/></g><g class=\"plot tooltip-overlay\" transform=\"translate(112, 46)\"><g class=\"tooltip\" style=\"opacity: 0\" transform=\"translate(0 0)\"><rect class=\"tooltip-box\" height=\"0\" rx=\"0\" ry=\"0\" width=\"0\"/><g class=\"text\"/></g></g><g class=\"legends\" transform=\"translate(10, 56)\"><g class=\"legend reactive activate-serie\" id=\"activate-serie-0\"><rect class=\"color-0 reactive\" height=\"12\" width=\"12\" x=\"0.0\" y=\"1.0\"/><text x=\"17.0\" y=\"11.2\">Score</text></g></g><g class=\"legends\" transform=\"translate(790, 56)\"/></g></svg>'"
      ]
     },
     "execution_count": 5,
     "metadata": {},
     "output_type": "execute_result"
    }
   ],
   "source": [
    "import statistics as st\n",
    "import numpy as np\n",
    "import pygal as pg\n",
    "\n",
    "import openpyxl as op\n",
    "columns = ['A','B','C','D','E','F']\n",
    "pestle = {}\n",
    "\n",
    "wb2 = op.load_workbook(r'C:\\Users\\Christopher\\Documents\\MAN6721\\PESTLE-S.xlsx')\n",
    "#print(wb2.get_sheet_names())\n",
    "sheet_ranges = wb2['Sheet1']\n",
    "\n",
    "for i in columns:\n",
    "    temp = {}\n",
    "    for x in range(2,100):\n",
    "        cell = i+str(x)\n",
    "        try:\n",
    "            #print(sheet_ranges[i+'1'].value.lower(),sheet_ranges[cell].value.lower())\n",
    "            temp[sheet_ranges[cell].value.lower()]=0\n",
    "        except:\n",
    "            x=100\n",
    "            \n",
    "    pestle[sheet_ranges[i+'1'].value.lower()]=temp\n",
    "#print(pestle)\n",
    "\n",
    "\n",
    "\n",
    "totalkeywords=0\n",
    "filename=r\"C:\\Users\\Christopher\\Documents\\MAN6721\\EliLilly.txt\"\n",
    "wordcounts={}\n",
    "wordlengths={}\n",
    "ls = []\n",
    "fin=open(filename,'r')\n",
    "for f in fin.readlines():\n",
    "    ls.append(f.split())\n",
    "for x in ls:\n",
    "    for i in x:\n",
    "        tempi=\"\"\n",
    "        i=i.lower().strip()\n",
    "        for j in i:\n",
    "            if j.isalpha():\n",
    "                tempi += j\n",
    "        i=tempi\n",
    "        for x in pestle:\n",
    "            for y in pestle[x]:\n",
    "                if i == y or i == y+'s' or i == y+'es' or i==y[:-1]+'ies':\n",
    "                    pestle[x][y] += 1\n",
    "                    totalkeywords+=1\n",
    "                    #print(pestle[x])\n",
    "        try:\n",
    "            wordcounts[i] += 1\n",
    "            wordlengths[i] = len(i)\n",
    "        except:\n",
    "            wordcounts[i] = 1\n",
    "loop = 0\n",
    "Score={}\n",
    "        \n",
    "\n",
    "for x in pestle:\n",
    "    print('---------------------'+x+'-----------------------')\n",
    "    tempwords=[]\n",
    "    tempscore = 0\n",
    "    Score[x]={'Words':[],'Score':0}\n",
    "    total = 0\n",
    "    for z in reversed(sorted(pestle[x], key=pestle[x].get)):\n",
    "        try:\n",
    "            total += pestle[x][z]\n",
    "        except:\n",
    "            total+=0\n",
    "    for y in reversed(sorted(pestle[x], key=pestle[x].get)):\n",
    "        try:\n",
    "            if loop>=5:\n",
    "                raise\n",
    "        except:\n",
    "            break\n",
    "        else:\n",
    "            word = y+\":\"\n",
    "            tempscore += pestle[x][y]\n",
    "            tempwords.append(y)\n",
    "            print(word.ljust(20),pestle[x][y])\n",
    "            loop+=1\n",
    "    Score[x]['Words']=tempwords\n",
    "    Score[x]['Score']=tempscore/totalkeywords\n",
    "    loop = 0\n",
    "scorelabels = []\n",
    "scorenumbers = []\n",
    "for x in pestle:\n",
    "    scorelabels.append(x)\n",
    "    scorenumbers.append(Score[x]['Score'])\n",
    "    print(x,Score[x])\n",
    "    \n",
    "radar_chart = pg.Radar(range=(.01, 1))\n",
    "radar_chart.title = 'PESTLE Score'\n",
    "radar_chart.x_labels = scorelabels\n",
    "radar_chart.add('Score', scorenumbers)\n",
    "#radar_chart.add('Actual Spending', [70, 50, 40, 10, 17, 8, 10])\n",
    "radar_chart.render_to_file('radar_chart.svg')\n"
   ]
  }
 ],
 "metadata": {
  "anaconda-cloud": {},
  "kernelspec": {
   "display_name": "Python [conda root]",
   "language": "python",
   "name": "conda-root-py"
  },
  "language_info": {
   "codemirror_mode": {
    "name": "ipython",
    "version": 3
   },
   "file_extension": ".py",
   "mimetype": "text/x-python",
   "name": "python",
   "nbconvert_exporter": "python",
   "pygments_lexer": "ipython3",
   "version": "3.5.2"
  }
 },
 "nbformat": 4,
 "nbformat_minor": 1
}
